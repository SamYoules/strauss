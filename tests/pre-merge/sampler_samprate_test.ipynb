{
 "cells": [
  {
   "cell_type": "code",
   "execution_count": null,
   "id": "c953865f",
   "metadata": {},
   "outputs": [],
   "source": [
    "%matplotlib inline\n",
    "%reload_ext autoreload \n",
    "%autoreload 2\n",
    "from strauss.sonification import Sonification\n",
    "from strauss.sources import Events\n",
    "from strauss import channels\n",
    "from strauss.score import Score\n",
    "import numpy as np\n",
    "from strauss.generator import Sampler"
   ]
  },
  {
   "cell_type": "code",
   "execution_count": null,
   "id": "c5bf6bff",
   "metadata": {},
   "outputs": [],
   "source": [
    "# setup used in stars appearing example\n",
    "\n",
    "chords = [['Db3','Gb3', 'Ab3', 'Eb4','F4']]\n",
    "length = 4\n",
    "system = 'mono'\n",
    "score =  Score(chords, length)\n",
    "\n",
    "maplims =  {'time': ('0', '150'),\n",
    "            'pitch' : ('0', '100'),\n",
    "           'phi':('0','100'),\n",
    "            'theta':('0','100')}\n",
    "\n",
    "events = Events(maplims.keys())\n",
    "\n",
    "data = {'pitch':np.arange(5),\n",
    "        'time':np.arange(5),\n",
    "       'phi': np.arange(5),\n",
    "       'theta': np.arange(5)}\n",
    "\n",
    "\n",
    "generator = Sampler(\"../../data/samples/glockenspiels\")\n",
    "\n",
    "events.fromdict(data)\n",
    "events.apply_mapping_functions(map_lims=maplims)"
   ]
  },
  {
   "cell_type": "code",
   "execution_count": null,
   "id": "0b2a4ec5",
   "metadata": {},
   "outputs": [],
   "source": [
    "# render at default 48 kHz rate\n",
    "soni = Sonification(score, events, generator, system)\n",
    "soni.render()\n",
    "soni.notebook_display()"
   ]
  },
  {
   "cell_type": "code",
   "execution_count": null,
   "id": "e7966231",
   "metadata": {},
   "outputs": [],
   "source": [
    "# now at 44.1 kHz - these should sound the same with correct behaviour\n",
    "generator = Sampler(\"../../data/samples/glockenspiels\", samprate=44100)\n",
    "soni = Sonification(score, events, generator, system, samprate=44100)\n",
    "soni.render()\n",
    "soni.notebook_display()"
   ]
  }
 ],
 "metadata": {
  "kernelspec": {
   "display_name": "Python 3 (ipykernel)",
   "language": "python",
   "name": "python3"
  },
  "language_info": {
   "codemirror_mode": {
    "name": "ipython",
    "version": 3
   },
   "file_extension": ".py",
   "mimetype": "text/x-python",
   "name": "python",
   "nbconvert_exporter": "python",
   "pygments_lexer": "ipython3",
   "version": "3.9.16"
  }
 },
 "nbformat": 4,
 "nbformat_minor": 5
}
