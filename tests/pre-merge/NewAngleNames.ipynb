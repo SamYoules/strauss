{
 "cells": [
  {
   "cell_type": "code",
   "execution_count": null,
   "id": "b941f7b3-a552-4de9-a8cb-8ad213353801",
   "metadata": {},
   "outputs": [],
   "source": [
    "%reload_ext autoreload \n",
    "%autoreload 2\n",
    "%matplotlib inline\n",
    "import matplotlib.pyplot as plt\n",
    "from strauss.sonification import Sonification\n",
    "from strauss.sources import Objects\n",
    "from strauss import channels\n",
    "from strauss.score import Score\n",
    "from strauss.generator import Synthesizer\n",
    "import IPython.display as ipd\n",
    "import os\n",
    "from scipy.interpolate import interp1d\n",
    "import numpy as np"
   ]
  },
  {
   "cell_type": "code",
   "execution_count": null,
   "id": "b7d2e73e-1578-41b2-b1a8-dcb3903c0668",
   "metadata": {},
   "outputs": [],
   "source": [
    "# seed the randoms...\n",
    "np.random.seed(0)\n",
    "\n",
    "# construct arrays of size N for x and y...\n",
    "N = 300\n",
    "x = np.linspace(0,1,N)\n",
    "y = np.zeros(N)\n",
    "\n",
    "# define a Gaussian function...\n",
    "gauss = lambda x, m, s: np.exp(-(x-m)**2/s) \n",
    "\n",
    "# place some randomised gaussians...\n",
    "for i in range(10):\n",
    "    a,b,c = np.random.random(3)\n",
    "    y += gauss(x, b, 1e-3*c) * a ** 3\n",
    "\n",
    "# now add some noise and normalise\n",
    "y += np.random.random(N) * y.mean()\n",
    "y /= y.max()*1.2\n",
    "y += 0.15\n",
    "\n",
    "\n",
    "plt.plot(x,y)\n",
    "plt.ylabel('Some dependent Variable')\n",
    "plt.xlabel('Some independent Variable')"
   ]
  },
  {
   "cell_type": "code",
   "execution_count": null,
   "id": "eec503bf-7a08-496b-9f4b-c9dd36227450",
   "metadata": {},
   "outputs": [],
   "source": [
    "# specify audio system (e.g. mono, stereo, 5.1, ...)\n",
    "system = \"stereo\"\n",
    "\n",
    "# length of the sonification in s\n",
    "length = 15.\n",
    "\n",
    "# set up synth and turn on LP filter\n",
    "generator = Synthesizer()\n",
    "generator.load_preset('pitch_mapper')\n",
    "generator.preset_details('pitch_mapper')"
   ]
  },
  {
   "cell_type": "code",
   "execution_count": null,
   "id": "fd90755e-f67b-4a58-b53b-5466969d7878",
   "metadata": {},
   "outputs": [],
   "source": [
    "notes = [[\"A2\"]]\n",
    "score =  Score(notes, length)\n",
    "\n",
    "data = {'pitch':1.,\n",
    "        'time_evo':x,\n",
    "        'azimuth':(x*0.5+0.25) % 1,\n",
    "        'polar':0.5,\n",
    "        'pitch_shift':y**0.7}\n",
    "\n",
    "# set up source\n",
    "sources = Objects(data.keys())\n",
    "sources.fromdict(data)\n",
    "sources.apply_mapping_functions()\n",
    "\n",
    "soni = Sonification(score, sources, generator, system)\n",
    "soni.render()\n",
    "soni.notebook_display()"
   ]
  },
  {
   "cell_type": "code",
   "execution_count": null,
   "id": "431db185-91cc-47c2-9677-e33d08a86f97",
   "metadata": {},
   "outputs": [],
   "source": [
    "notes = [[\"A2\"]]\n",
    "score =  Score(notes, length)\n",
    "\n",
    "data = {'pitch':1.,\n",
    "        'time_evo':x,\n",
    "        'azimuth':(x*0.5+0.25) % 1,\n",
    "        'phi':(x*0.5+0.25) % 1,\n",
    "        'polar':0.5,\n",
    "        'pitch_shift':y**0.7}\n",
    "\n",
    "# set up source\n",
    "sources = Objects(data.keys())\n",
    "sources.fromdict(data)\n",
    "sources.apply_mapping_functions()\n",
    "\n",
    "soni = Sonification(score, sources, generator, system)\n",
    "soni.render()\n",
    "soni.notebook_display()"
   ]
  },
  {
   "cell_type": "code",
   "execution_count": null,
   "id": "078c76c7-13e5-4a8d-b601-4f73c22e5c0e",
   "metadata": {},
   "outputs": [],
   "source": [
    "notes = [[\"A2\"]]\n",
    "score =  Score(notes, length)\n",
    "\n",
    "data = {'pitch':1.,\n",
    "        'time_evo':x,\n",
    "        'azimuth':(x*0.5+0.25) % 1,\n",
    "        'polar':0.5,\n",
    "        'theta':0.5,\n",
    "        'pitch_shift':y**0.7}\n",
    "\n",
    "# set up source\n",
    "sources = Objects(data.keys())\n",
    "sources.fromdict(data)\n",
    "sources.apply_mapping_functions()\n",
    "\n",
    "soni = Sonification(score, sources, generator, system)\n",
    "soni.render()\n",
    "soni.notebook_display()"
   ]
  }
 ],
 "metadata": {
  "kernelspec": {
   "display_name": "Python 3 (ipykernel)",
   "language": "python",
   "name": "python3"
  },
  "language_info": {
   "codemirror_mode": {
    "name": "ipython",
    "version": 3
   },
   "file_extension": ".py",
   "mimetype": "text/x-python",
   "name": "python",
   "nbconvert_exporter": "python",
   "pygments_lexer": "ipython3",
   "version": "3.8.2"
  }
 },
 "nbformat": 4,
 "nbformat_minor": 5
}
