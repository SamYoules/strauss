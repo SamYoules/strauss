{
 "cells": [
  {
   "cell_type": "code",
   "execution_count": null,
   "id": "7c2f08f3-9c80-49c0-8da1-269a81d79e72",
   "metadata": {},
   "outputs": [],
   "source": [
    "import numpy as np\n",
    "import stream as strm\n",
    "import matplotlib.pyplot as plt\n",
    "from filters import HPF1, LPF1\n",
    "import IPython.display as ipd"
   ]
  },
  {
   "cell_type": "code",
   "execution_count": null,
   "id": "cb7e48a3-4608-4d95-a954-bb4e4702f00d",
   "metadata": {},
   "outputs": [],
   "source": [
    "# stream length, in seconds\n",
    "length = 3."
   ]
  },
  {
   "cell_type": "code",
   "execution_count": null,
   "id": "fb0ff1fb-ede6-4a91-9dd9-a28e643a262e",
   "metadata": {},
   "outputs": [],
   "source": [
    "# sample frequency, in Hz (usually always 44100)\n",
    "sampfreq = 44100"
   ]
  },
  {
   "cell_type": "code",
   "execution_count": null,
   "id": "bc159047-c033-473b-a0c7-39233b17ccbc",
   "metadata": {},
   "outputs": [],
   "source": [
    "# frequency of note to generate in Hz\n",
    "nfreq = 220"
   ]
  },
  {
   "cell_type": "code",
   "execution_count": null,
   "id": "325006b8-4de1-4cc3-bbad-cf821e2d2b08",
   "metadata": {},
   "outputs": [],
   "source": [
    "# initialise stream\n",
    "stream = strm.Stream(length, sampfreq)"
   ]
  },
  {
   "cell_type": "code",
   "execution_count": null,
   "id": "52ce0fc8-71a2-403b-a4e4-6836c210280a",
   "metadata": {},
   "outputs": [],
   "source": [
    "# generate simple square wave & listen\n",
    "stream.values = np.where((stream.samples * 0.5 * nfreq / sampfreq) % 2 > 1, -1., 1.)\n",
    "ipd.Audio(stream.values, rate=sampfreq, autoplay=True)"
   ]
  },
  {
   "cell_type": "code",
   "execution_count": null,
   "id": "ce1131aa-aff6-4f10-9c83-1ea11853f24e",
   "metadata": {},
   "outputs": [],
   "source": [
    "# create filter sweep mapping function\n",
    "sfunc = lambda x: 0.5+np.cos(x*4*np.pi)*0.4+np.random.random(len(x))*0.1\n",
    "plt.scatter(np.linspace(0,1,400), sfunc(np.linspace(0,1,400)), s=5)"
   ]
  },
  {
   "cell_type": "code",
   "execution_count": null,
   "id": "fe7ea057-a151-43fc-af1d-13985f70fb36",
   "metadata": {},
   "outputs": [],
   "source": [
    "# apply filter sweep & listen\n",
    "stream.bufferize(0.02)\n",
    "stream.filt_sweep(LPF1, sfunc)\n",
    "ipd.Audio(stream.values, rate=sampfreq, autoplay=True)"
   ]
  }
 ],
 "metadata": {
  "kernelspec": {
   "display_name": "Python 3",
   "language": "python",
   "name": "python3"
  },
  "language_info": {
   "codemirror_mode": {
    "name": "ipython",
    "version": 3
   },
   "file_extension": ".py",
   "mimetype": "text/x-python",
   "name": "python",
   "nbconvert_exporter": "python",
   "pygments_lexer": "ipython3",
   "version": "3.8.2"
  }
 },
 "nbformat": 4,
 "nbformat_minor": 5
}
