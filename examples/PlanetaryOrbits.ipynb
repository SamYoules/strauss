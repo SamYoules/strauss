{
 "cells": [
  {
   "cell_type": "markdown",
   "id": "03b73a45",
   "metadata": {},
   "source": [
    "### <u> Generate the Planetary Orbit sonifications used in the \"_Audible Universe_\" planetarium show </u>"
   ]
  },
  {
   "cell_type": "markdown",
   "id": "37f21355",
   "metadata": {},
   "source": [
    "**First, import relevant modules:**"
   ]
  },
  {
   "cell_type": "code",
   "execution_count": null,
   "id": "f64e736a",
   "metadata": {},
   "outputs": [],
   "source": [
    "%reload_ext autoreload \n",
    "%autoreload 2\n",
    "%matplotlib inline\n",
    "import matplotlib.pyplot as plt\n",
    "import ffmpeg as ff\n",
    "import wavio as wav\n",
    "from strauss.sonification import Sonification\n",
    "from strauss.sources import Objects\n",
    "from strauss import channels\n",
    "from strauss.score import Score\n",
    "import numpy as np\n",
    "from strauss.generator import Sampler\n",
    "import IPython.display as ipd\n",
    "import os"
   ]
  },
  {
   "cell_type": "markdown",
   "id": "c4a3e9c2-e9e3-48ca-a21c-0ae64bb549f6",
   "metadata": {},
   "source": [
    "**Collate the notes we are using to represent each planet and their orbital periods, as well as the length of each sonification**\n",
    "\n",
    "Then, combine these into dictionaries so they can be easily indexed"
   ]
  },
  {
   "cell_type": "code",
   "execution_count": null,
   "id": "1f14379b",
   "metadata": {},
   "outputs": [],
   "source": [
    "# planet names\n",
    "planets = ['Mercury',\n",
    "          'Venus',\n",
    "          'Earth',\n",
    "          'Mars',\n",
    "          'Jupiter',\n",
    "          'Saturn',\n",
    "          'Uranus',\n",
    "          'Neptune']\n",
    "\n",
    "# notes representing each planet\n",
    "notes = [[['F6']],\n",
    "         [['Bb5']],\n",
    "         [['Gb5']],\n",
    "         [['Db6']],\n",
    "         [['Gb2']],\n",
    "         [['Bb2']],\n",
    "         [['Bb3']],\n",
    "         [['F3']]]\n",
    "\n",
    "# orbital period of each planet in days\n",
    "periods = np.array([88,\n",
    "                     224.7,\n",
    "                     365.2,\n",
    "                     687,\n",
    "                     4331,\n",
    "                     10747,\n",
    "                     30589,\n",
    "                     59800])\n",
    "\n",
    "# sonification lengths for each planet\n",
    "lengths = [126]*4 + [84]*4\n",
    "\n",
    "# put these into dictionaries\n",
    "chorddict = dict(zip(planets,notes))\n",
    "lendict = dict(zip(planets, lengths))\n",
    "perioddict = dict(zip(planets,periods*(lendict['Neptune']/(0.75 * periods[-1]))))"
   ]
  },
  {
   "cell_type": "markdown",
   "id": "5cb86230-36ec-482a-80b3-021e3a884a08",
   "metadata": {},
   "source": [
    "**Specify the audio system to use** _(use `'stereo'` by default but for the planetarium `'5.1'` is used)_"
   ]
  },
  {
   "cell_type": "code",
   "execution_count": null,
   "id": "30fb2e77-c1a2-4904-834b-dd45735b6233",
   "metadata": {},
   "outputs": [],
   "source": [
    "# specify audio system (e.g. mono, stereo, 5.1, ...)\n",
    "system = \"stereo\""
   ]
  },
  {
   "cell_type": "markdown",
   "id": "384b28ac-038b-41f6-986a-d8f7c44a1edd",
   "metadata": {},
   "source": [
    "**Now, set-up the sampler and the mapping functions and limits of mapped quantities**"
   ]
  },
  {
   "cell_type": "code",
   "execution_count": null,
   "id": "009d6c9a-fb4c-4cd9-a87d-ccae4f280d89",
   "metadata": {},
   "outputs": [],
   "source": [
    "# set up sampler\n",
    "sampler = Sampler(\"../data/samples/solar_system\")\n",
    "\n",
    "# we want to loop the orchestral samples\n",
    "sampler.modify_preset({'looping':'forward', # looping style\n",
    "                       'loop_start': 7.0, # start of loop in seconds\n",
    "                       'loop_end': 9.4}) # end of loop in seconds\n",
    "\n",
    "# mapping functions and their limits\n",
    "mapvals =  {'phi': lambda x : x,\n",
    "            'theta': lambda x : x,\n",
    "            'pitch' : lambda x: x,\n",
    "            'volume' : lambda x : x,\n",
    "           'time_evo' : lambda x : x}\n",
    "\n",
    "maplims =  {'phi': (0, 360),\n",
    "            'theta': (0, 180),\n",
    "            'pitch' : (0, 1),\n",
    "            'volume' : (0, 1),\n",
    "           'time_evo' : (0,1)}"
   ]
  },
  {
   "cell_type": "markdown",
   "id": "95b9cdbc-126c-4ed4-a708-9e513481a0c7",
   "metadata": {},
   "source": [
    "**Specify which planet you want to sonify:**"
   ]
  },
  {
   "cell_type": "code",
   "execution_count": null,
   "id": "8fa322ac-11e0-4800-b26d-088eb805b677",
   "metadata": {},
   "outputs": [],
   "source": [
    "# modify these for each planet\n",
    "planet = \"Venus\"\n",
    "panphase = 0"
   ]
  },
  {
   "cell_type": "markdown",
   "id": "b7a7b7ed-6da8-4694-8aef-df00a7277d42",
   "metadata": {},
   "source": [
    "**Render sonification for specified planet...**"
   ]
  },
  {
   "cell_type": "code",
   "execution_count": null,
   "id": "7c92480b-345a-4212-883c-b9eded4060d5",
   "metadata": {},
   "outputs": [],
   "source": [
    "# volume swell is directly ahead\n",
    "volphase = panphase + 90\n",
    "\n",
    "# setup score\n",
    "score =  Score(chorddict[planet], lendict[planet])\n",
    "\n",
    "# data dict\n",
    "n = 10000\n",
    "orbits_per_sonification = lendict[planet]/perioddict[planet]\n",
    "orbital_phi = (np.linspace(0,orbits_per_sonification,n)%1)*360\n",
    "data = {'phi':orbital_phi + panphase,\n",
    "        'theta':np.ones(n)*90., # constant theta of 90 deg\n",
    "        'pitch':1,     # constant pitch\n",
    "        'volume':np.sin((orbital_phi + volphase) * np.pi/180.)*0.4+0.6,\n",
    "        'time_evo': np.linspace(0,1,n)\n",
    "        }\n",
    "\n",
    "# set up source\n",
    "sources = Objects(mapvals.keys())\n",
    "sources.fromdict(data)\n",
    "sources.apply_mapping_functions(mapvals, maplims)\n",
    "\n",
    "soni = Sonification(score, sources, sampler, system)\n",
    "soni.render()"
   ]
  },
  {
   "cell_type": "markdown",
   "id": "171f4766-3a4d-49c1-b6b9-baf7260dec27",
   "metadata": {},
   "source": [
    "**Listen to and plot the waveforms from the sonification:**"
   ]
  },
  {
   "cell_type": "code",
   "execution_count": null,
   "id": "97dd6b8c",
   "metadata": {},
   "outputs": [],
   "source": [
    "soni.notebook_display()"
   ]
  },
  {
   "cell_type": "markdown",
   "id": "14aae7e4-28fd-47bb-af1a-9a953370969c",
   "metadata": {},
   "source": [
    "**Combine and save sonification to a multi-channel wav** \n",
    "\n",
    "NOTE: Change `\"../../FILENAME.wav\"` to your filepath of choice. By default, the sound file is normalised to that of the highest amplitude sample, but can be set to a lower normalisation by setting the `master_volume` parameter to a value between `0.` and `1.`."
   ]
  },
  {
   "cell_type": "code",
   "execution_count": null,
   "id": "7bed74fc-a506-47d7-aff1-0ea6e200bd8a",
   "metadata": {},
   "outputs": [],
   "source": [
    "soni.save_combined(\"../../FILENAME.wav\", True, master_volume=1.0)"
   ]
  }
 ],
 "metadata": {
  "kernelspec": {
   "display_name": "Python 3 (ipykernel)",
   "language": "python",
   "name": "python3"
  },
  "language_info": {
   "codemirror_mode": {
    "name": "ipython",
    "version": 3
   },
   "file_extension": ".py",
   "mimetype": "text/x-python",
   "name": "python",
   "nbconvert_exporter": "python",
   "pygments_lexer": "ipython3",
   "version": "3.9.7"
  }
 },
 "nbformat": 4,
 "nbformat_minor": 5
}
