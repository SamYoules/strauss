{
 "cells": [
  {
   "cell_type": "markdown",
   "id": "af1380f6-87a4-4a71-9371-f34f09e327dd",
   "metadata": {},
   "source": [
    "#### Preamble for `CoLab` "
   ]
  },
  {
   "cell_type": "markdown",
   "id": "d3371a13-4791-4060-93a9-f8584d92f766",
   "metadata": {},
   "source": [
    "To use this notebook (if you haven't already) you can first save a copy to your local drive by clicking `File > Save a Copy in Drive` and run on that copy."
   ]
  },
  {
   "cell_type": "markdown",
   "id": "b68cb439-44e5-45d7-bc7f-99327d98aa07",
   "metadata": {},
   "source": [
    "_Note_: `Colab` is a really handy way to test and try `strauss`, though it will generally run and display audio more slowly than running on your local machine. For a more responsive experience, why not install `strauss` locally, following the instructions [on the Github](https://github.com/james-trayford/strauss)"
   ]
  },
  {
   "cell_type": "markdown",
   "id": "d961ed9a-135e-4d00-8561-316122d73b52",
   "metadata": {},
   "source": [
    "Run these cells, so that the notebook functions on the _Google_ `Colab` platform:"
   ]
  },
  {
   "cell_type": "code",
   "execution_count": null,
   "id": "f9d3764f-286b-440c-a52a-3aaee05aae43",
   "metadata": {},
   "outputs": [],
   "source": [
    "%pip --quiet install strauss"
   ]
  },
  {
   "cell_type": "code",
   "execution_count": null,
   "id": "8e93f842-fed6-480c-9910-22f9e85a948b",
   "metadata": {},
   "outputs": [],
   "source": [
    "!git clone https://github.com/james-trayford/strauss.git"
   ]
  },
  {
   "cell_type": "code",
   "execution_count": null,
   "id": "a9f03648-820a-4c3e-b182-f4bbb42b4343",
   "metadata": {},
   "outputs": [],
   "source": [
    "%cd strauss/examples/"
   ]
  },
  {
   "cell_type": "markdown",
   "id": "30b132b2-6718-49f8-96cb-845dc6c825f3",
   "metadata": {},
   "source": [
    "### <u> Using Soundfont (`sf2`) files in `strauss` </u>"
   ]
  },
  {
   "cell_type": "markdown",
   "id": "2bcebce4-b351-413f-a220-556d3d68c9d1",
   "metadata": {},
   "source": [
    "Soundfont files conveniently package recorded samples of musical instruments together, to build realistic sounding virtual instruments. \n",
    "\n",
    "We can read such files into `strauss` when sonifying data!\n",
    "\n",
    "First we import some modules:"
   ]
  },
  {
   "cell_type": "code",
   "execution_count": null,
   "id": "5e49f838-08d4-4399-a174-e7ebf6c274db",
   "metadata": {},
   "outputs": [],
   "source": [
    "%reload_ext autoreload \n",
    "%autoreload 2\n",
    "import matplotlib.pyplot as plt\n",
    "from strauss.sonification import Sonification\n",
    "from strauss.sources import Objects, Events\n",
    "from strauss import channels\n",
    "from strauss.score import Score\n",
    "import numpy as np\n",
    "from strauss.generator import Sampler\n",
    "import IPython.display as ipd\n",
    "import glob\n",
    "import os\n",
    "import copy\n",
    "from pathlib import Path\n",
    "%matplotlib inline"
   ]
  },
  {
   "cell_type": "markdown",
   "id": "6869fa18-aea2-4b25-bed0-c68a89350dd3",
   "metadata": {},
   "source": [
    "...and then download some soundfont (`sf2`) files. These are widely available online, and in particular we download some collected on the [_Soundfonts 4 U_](https://sites.google.com/site/soundfonts4u/) website (and hsted on _Google Drive_). Why not experiment with some of the other files hosted here? We select a flute and a collection of guitar sounds as these are small enough to automatically download.\n",
    "\n",
    "Don't worry too much about this code, you can equally download these files through your browser if you find this more convenient"
   ]
  },
  {
   "cell_type": "code",
   "execution_count": null,
   "id": "17a8a11c-68ec-4ab3-9fca-f6b3cb5cdce4",
   "metadata": {},
   "outputs": [],
   "source": [
    "outdir = Path(\"..\", \"data\", \"samples\", \"soundfonts\")\n",
    "\n",
    "if list(Path(f\"{outdir}\").glob(\"*.sf2\")):\n",
    "    print(f\"Directory {outdir} with sf2 files already exists.\")\n",
    "else:\n",
    "    print(\"Downloading files...\")\n",
    "    import urllib.request\n",
    "    import os\n",
    "\n",
    "    path = Path(outdir)\n",
    "    path.mkdir(parents=True, exist_ok=True)\n",
    "    path = str(path)\n",
    "    # path = os.path.realpath(outdir)\n",
    "    \n",
    "    files = (\"guitars.sf2\", \"flute.sf2\")\n",
    "    urls = (\"https://drive.google.com/uc?export=download&id=18CCYj8AFy7wpDdGg0ADx8GfTTHEFilrs\",\n",
    "           \"https://drive.google.com/uc?export=download&id=1DAbIitPRUUGidrhVt4wiwwXrSxOD7RDY\")\n",
    "    for f, u in zip(files, urls):\n",
    "        with urllib.request.urlopen(u) as response, Path(f\"{path}\",f\"{f}\").open(mode='wb') as out_file:\n",
    "            print(f\"\\t getting {f}\")\n",
    "            data = response.read() # a `bytes` object\n",
    "            out_file.write(data)\n",
    "    print(\"Done.\")"
   ]
  },
  {
   "cell_type": "markdown",
   "id": "d2d49107-ae44-4581-89e7-f9f793057880",
   "metadata": {},
   "source": [
    "Now we have these files, lets try loading them into the sampler.\n",
    "\n",
    "First the ***flute*** soundfont. Generally soundfonts can store multiple different instruments or sets of sounds as `\"presets\"`. The flute file has just a single flute instruments, so if we load this file it should pick this preset automatically with no complaints."
   ]
  },
  {
   "cell_type": "code",
   "execution_count": null,
   "id": "5470535e-f56a-4621-b910-1d7b7bdf84a6",
   "metadata": {},
   "outputs": [],
   "source": [
    "flute_sampler = Sampler(Path(outdir,\"flute.sf2\"))"
   ]
  },
  {
   "cell_type": "markdown",
   "id": "23442255-893d-42b7-b09a-e8a50c1343ba",
   "metadata": {},
   "source": [
    "On the other hand, the ***guitar*** file has multiple presets. If we try loading this in in the same way, the `_strauss_` sampler will default to picking the first preset to use, but will print a list of all of the presets and thier associated numbers."
   ]
  },
  {
   "cell_type": "code",
   "execution_count": null,
   "id": "0214f379-fe4d-432a-89bb-4e3b46d70f92",
   "metadata": {},
   "outputs": [],
   "source": [
    "guitar_sampler = Sampler(Path(outdir, \"guitars.sf2\"))"
   ]
  },
  {
   "cell_type": "markdown",
   "id": "94d0cfb6-547d-47d8-874c-a694d54eb797",
   "metadata": {},
   "source": [
    "This can be useful to inspect whats inside the soundfont file. If we already know which preset we want (by e.g. inspecting this list), we can pick the preset ahead of time, using the `sf_preset` keyword argument:"
   ]
  },
  {
   "cell_type": "code",
   "execution_count": null,
   "id": "d1244142-5519-46fd-aaa5-ccb42a909a4d",
   "metadata": {},
   "outputs": [],
   "source": [
    "sf_preset = 19\n",
    "guitar_sampler= Sampler(Path(outdir, \"guitars.sf2\"), sf_preset=sf_preset)"
   ]
  },
  {
   "cell_type": "markdown",
   "id": "0f378d6d-5f72-4b19-a809-a0ac710a8ffa",
   "metadata": {},
   "source": [
    "So, lets try using these files to sonify data series. We use light-curve data packaged for the star `55 Cancri`. This provides a noisy data set with interesting long and short term variations, as well as a gap in the data.\n",
    "\n",
    "First, we can articulate each data-point using individual musical notes, chosen from a musical scale (`C Major Pentatonic`). We visualise this using a scztter plot, where each data point is repreesented individually.\n",
    "\n",
    "When listening to many data points in quick succession, the _\"note_length\"_ and _\"volume_envelope_\" can be important, i.e. how the loudness of the sound changes over time. If each note plays for a long time, we could lose track of the individual notes. We want each note to be a short burst of sound - _\"staccato\"_ in musical terms. Here we set parameters to achieve this manually, but you can also just use the _`\"staccato\"`_ preset for the `Sampler` (commented out).\n",
    "\n",
    "Here, we use 0.03 second (30 ms) as the note duration, but what if we changed this to 1 second?\n",
    "\n",
    "You should find it harder to the clear articulation of individual data points, for example the regular dips in the light curve are harder to hear - this can sound good, but is less informative. Note also how we hear the large gap in data points where the sound stops for some time."
   ]
  },
  {
   "cell_type": "code",
   "execution_count": null,
   "id": "bcaff07b-893a-498f-8e31-c58403cd720e",
   "metadata": {},
   "outputs": [],
   "source": [
    "# pick a soundfont to use\n",
    "\n",
    "#generator = guitar_sampler\n",
    "generator = copy.copy(flute_sampler)\n",
    "\n",
    "lightcurve = np.genfromtxt(Path('..', 'data', 'datasets', '55Cancri_lc.dat'))\n",
    "x = lightcurve[:,0][:]\n",
    "y = lightcurve[:,1][:]\n",
    "\n",
    "notes = [[\"C3\",\"D3\",\"E3\",\"G3\",\"B3\",\"C4\",\"D4\",\"E4\",\"G4\",\"B4\",\"C5\",\"D5\",\"E5\",\"G5\",\"B5\"]]\n",
    "score =  Score(notes, 15)\n",
    "        \n",
    "maps = {'pitch':y,\n",
    "        'time': x}\n",
    "\n",
    "system = \"mono\"\n",
    "\n",
    "# manually set note properties to get a suitable sound\n",
    "generator.modify_preset({'note_length':0.03, # hold each note for 0.03 seconds or 30 ms - what if this was 1s?\n",
    "                         'volume_envelope': {'use':'on',\n",
    "                                            # A,D,R values in seconds, S sustain fraction from 0-1 that note\n",
    "                                            # will 'decay' to (after time A+D)\n",
    "                                            'A':0.01,    # ✏️ Time to fade in note to maximum volume, using 10 ms\n",
    "                                            'D':0.0,    # ✏️ Time to fall from maximum volume to sustained level (s), irrelevant while S is 1 \n",
    "                                            'S':1.,      # ✏️ fraction of maximum volume to sustain note at while held, 1 implies 100% \n",
    "                                            'R':0.07}}) # ✏️ Time to fade out once note is released, using 100 ms\n",
    "\n",
    "# alternatively can avoid setting manually above anf just load the 'staccato' preset\n",
    "# generator.load_preset('staccato')\n",
    "\n",
    "# set 0 to 100 percentile limits so the full pitch range is used...\n",
    "# setting 0 to 101 for pitch means the sonification is 1% longer than\n",
    "# the time needed to trigger each note - by making this more than 100%\n",
    "# we give all the notes time to ring out (setting this at 100% means\n",
    "# the final note is triggered at the momement the sonification ends)\n",
    "lims = {'time': ('0%','101%'),\n",
    "        'pitch': ('0%','100%')}\n",
    "\n",
    "# set up source\n",
    "sources = Events(maps.keys())\n",
    "sources.fromdict(maps)\n",
    "sources.apply_mapping_functions(map_lims=lims)\n",
    "\n",
    "soni = Sonification(score, sources, generator, system)\n",
    "soni.render()\n",
    "dobj = soni.notebook_display(show_waveform=0)\n",
    "\n",
    "plt.scatter(x,y, marker='.')\n",
    "plt.ylabel('Magnitude')\n",
    "plt.xlabel('Time (Julian Days)')"
   ]
  },
  {
   "cell_type": "markdown",
   "id": "e6079c22-b5b6-47f4-a914-df0ec5c73584",
   "metadata": {},
   "source": [
    "For a different approach, we can use an `Object` source type, where we evolve a sound over time to represent the data. Here we represent the same data using a held chord, and change the _`\"cutoff\"`_ frequency of the low-pass filter to create a 'brighter' timbre when the star is brighter and a 'darker' sound when the star is darker.\n",
    "\n",
    "When using samples in this way, we want to achieve certain properties:\n",
    "\n",
    "- A sound that will last the length of the sonification: To achieve this we can use _\"looping\"_, where part of the sample is repeated indefinitely, choosing the looping style and start and end points.\n",
    "- A sound that has little intrinsic variation: for a example a short, percussive sound like a plucked string will lead to large volume variations when looping, that can be distractibg from the variation due to the data we're interested in. An instrument like a violin or organ can loop more smoothly.\n",
    "- A \"harmonically rich\" sound: By choosing an instrument with a more trebly or 'bright' timbre, the filter variations will be easier to hear\n",
    "\n",
    "For example we use an overdriven guitar sound by default. This sound loops well as it fades away slowly, and the distorition makes int harmonically rich. How about trying some other presets for the `guitar_sampler` above by choosing a different `sf_preset` value?\n",
    "\n",
    "To visualise this we use a line graph - this uses a continuous, varying line to represent the data series, analogous to the evolving sound. In the line graph we see that the data gap is interpolated over, connecting the data points either side of the gap. In the `Object` representation the same effect is heard in the sound - the sound varies smoothly over the gap."
   ]
  },
  {
   "cell_type": "code",
   "execution_count": null,
   "id": "2a10b49a-476b-4579-9383-f887d3c78323",
   "metadata": {},
   "outputs": [],
   "source": [
    "# pick a soundfont to use\n",
    "\n",
    "generator = copy.copy(guitar_sampler)\n",
    "#generator = flute_sampler\n",
    "\n",
    "generator.modify_preset({'filter':'on'})\n",
    "\n",
    "# manually set looping parameters \n",
    "generator.modify_preset({'looping':'forwardback',\n",
    "                         'loop_start': 0.2, 'loop_end': 0.5}) # ✏️ for such a fast sequence, using ~10 ms values\n",
    "\n",
    "# or, just load the 'sustain' preset\n",
    "# generator.load_preset('sustain')\n",
    "\n",
    "# we use a 'chord' here to create more harmonic richness (stacking fifths)...\n",
    "notes = [[\"E2\", \"B3\"]]\n",
    "score =  Score(notes, 15)\n",
    "\n",
    "data = {'pitch':[0,1,2,3],\n",
    "        'time_evo':[x]*4,\n",
    "        'cutoff':[y]*4}\n",
    "\n",
    "lims = {'time_evo': ('0%','100%'),\n",
    "        'cutoff': ('0%','100%')}\n",
    "\n",
    "# set up source\n",
    "sources = Objects(data.keys())\n",
    "sources.fromdict(data)\n",
    "plims = {'cutoff': (0.25,0.95)}\n",
    "sources.apply_mapping_functions(map_lims=lims, param_lims=plims)\n",
    "\n",
    "soni = Sonification(score, sources, generator, system)\n",
    "soni.render()\n",
    "dobj = soni.notebook_display(show_waveform=0);\n",
    "plt.plot(x,y)\n",
    "plt.ylabel('Magnitude')\n",
    "plt.xlabel('Time (Julian Days)')"
   ]
  }
 ],
 "metadata": {
  "kernelspec": {
   "display_name": "Python 3 (ipykernel)",
   "language": "python",
   "name": "python3"
  },
  "language_info": {
   "codemirror_mode": {
    "name": "ipython",
    "version": 3
   },
   "file_extension": ".py",
   "mimetype": "text/x-python",
   "name": "python",
   "nbconvert_exporter": "python",
   "pygments_lexer": "ipython3",
   "version": "3.12.8"
  }
 },
 "nbformat": 4,
 "nbformat_minor": 5
}
