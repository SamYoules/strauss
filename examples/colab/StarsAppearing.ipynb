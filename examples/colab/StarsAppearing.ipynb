{
 "cells": [
  {
   "cell_type": "markdown",
   "id": "733f7f75-23c1-4af0-a623-642649fbe307",
   "metadata": {},
   "source": [
    "#### Preamble for `CoLab` "
   ]
  },
  {
   "cell_type": "markdown",
   "id": "ebea1f6c-eee7-4c73-b775-2b91e3aca57f",
   "metadata": {},
   "source": [
    "To use this notebook (if you haven't already) you can first save a copy to your local drive by clicking `File > Save a Copy in Drive` and run on that copy."
   ]
  },
  {
   "cell_type": "markdown",
   "id": "d5dc1e7f-b82d-4620-a879-027624024068",
   "metadata": {},
   "source": [
    "_Note_: `Colab` is a really handy way to test and try `strauss`, though it will generally run and display audio more slowly than running on your local machine. There are also RAM limitations that limit the size and complexity of sonifications we can make. For a more responsive experience, why not install `strauss` locally, following the instructions [on the Github](https://github.com/james-trayford/strauss)?"
   ]
  },
  {
   "cell_type": "markdown",
   "id": "f1c0df79-8a33-4a82-b7f6-c012d75ed6eb",
   "metadata": {},
   "source": [
    "Run these cells, so that the notebook functions on the _Google_ `Colab` platform:"
   ]
  },
  {
   "cell_type": "code",
   "execution_count": null,
   "id": "dea3ade6-c881-4390-8092-b1c06c3dc9c8",
   "metadata": {},
   "outputs": [],
   "source": [
    "%pip --quiet install strauss"
   ]
  },
  {
   "cell_type": "code",
   "execution_count": null,
   "id": "87177650-5b5a-4d65-ae9b-4e56edf8cab8",
   "metadata": {},
   "outputs": [],
   "source": [
    "!git clone https://github.com/james-trayford/strauss.git"
   ]
  },
  {
   "cell_type": "code",
   "execution_count": null,
   "id": "39e63fee-e705-414c-a340-b2bb954f2602",
   "metadata": {},
   "outputs": [],
   "source": [
    "%cd strauss/examples/"
   ]
  },
  {
   "cell_type": "markdown",
   "id": "b500ca19-4073-415b-81f4-692c4eff3bcf",
   "metadata": {},
   "source": [
    "### <u> Generate the \"_Stars Appearing_\" sonification used in the \"_Audible Universe_\" planetarium show </u>"
   ]
  },
  {
   "cell_type": "markdown",
   "id": "3b902ffb-cd97-4a66-8baa-57cf99c25034",
   "metadata": {},
   "source": [
    "First, we import relevant modules:"
   ]
  },
  {
   "cell_type": "code",
   "execution_count": null,
   "id": "b045e26c-75e1-42fb-966c-5d08c389fa05",
   "metadata": {},
   "outputs": [],
   "source": [
    "%reload_ext autoreload \n",
    "%autoreload 2\n",
    "import matplotlib.pyplot as plt\n",
    "import ffmpeg as ff\n",
    "import wavio as wav\n",
    "from strauss.sonification import Sonification\n",
    "from strauss.sources import Events\n",
    "from strauss import channels\n",
    "from strauss.score import Score\n",
    "import numpy as np\n",
    "from strauss.generator import Sampler\n",
    "import IPython.display as ipd\n",
    "import pathlib\n",
    "%matplotlib inline"
   ]
  },
  {
   "cell_type": "markdown",
   "id": "1c5d6004-e835-40f5-9b78-8bd6057482d6",
   "metadata": {},
   "source": [
    "<u> __The Score:__ </u>\n",
    "\n",
    "We set up the ***Score***; this is analagous to a musical score and controls what notes can be played over the course of the sonification. We can specify a chord sequence as a single string (`str`) where chord names are separated by a `|` character. The root octave of the chord may also be specified by adding `_X` where `X` is the octave number. <span style=\"color:gray\">_(Note: for now, each chord occupies an equal lenth in the sonification, in the future chord change times can be directly specified and optionally related to events in the data)_</span>\n",
    "\n",
    "We can directly specify the ___chord voicing___ as \n",
    "a list of lists containing the notes from low to high in each chord.\n",
    "\n",
    "Here, we  are directly specifying a single __`Db6/9`__ chord voicing. These notes will later be played by stars of different colours!"
   ]
  },
  {
   "cell_type": "code",
   "execution_count": null,
   "id": "78078602-fa01-41be-868d-de4e22388aa2",
   "metadata": {},
   "outputs": [],
   "source": [
    "chords = [['Db3','Gb3', 'Ab3', 'Eb4','F4']]\n",
    "length = \"1m 30s\"\n",
    "score =  Score(chords, length)"
   ]
  },
  {
   "cell_type": "markdown",
   "id": "20d4a158-5538-40cc-b7d6-85b12425eee5",
   "metadata": {},
   "source": [
    "<u> __The Sources:__ </u>\n",
    "\n",
    "Next, we import the data that will represent ___sources___ of sound. The data is the sky positions, brightness and colour of stars from the _Paranal_ observatory site in _Chile_. This data is contained in an `ascii` file (specified by the `datafile` variable) and organised where each __row__ is a star and each __column__ is a property of that star.\n",
    "\n",
    "The idea here is that as night draws in we see the brightet stars first. As it gets darker, and our eyes adjust, we see more dim stars. We \"***sonify***\" this by having a note play when each star appears. The \"***panning***\" (a.k.a stereo imaging) of the note is controlled by the ***altitude*** and ***azimuth*** of the stars, as if we were facing south. The ***colour*** of the star contols the note within the chord we've chosen, where notes low to high (short to long wavelength) represent fixed-number bins in colour from blue to red (again, short to long wavelength). Finally, the volume of the note is also related to the brightness of the star (dimmer stars are quieter). This is chosen to give a relatively even volume throught the sonification, as dim stars are much more numerous than bright ones <span style=\"color:gray\">_(Note: in the future we will have the option to scale volumes in this way automatically)_</span>\n",
    "\n",
    "We speciify the sound preperty to star property mappimg as as three `dict` objects with keys representing each sound property we dapat in the sonification:\n",
    "- **`mapcols`**: entries are the data file columns used to map each property\n",
    "- **`mapvals`**: entries are function objects that manipulate each columns values to yield the linear mapping\n",
    "- **`maplims`**: entries are `tuple`s representing the (`low`,`high`) limits of each mapping.numerical values represent absolute limits (used here for the angles in degrees to correctly limit the `azimuth` and `polar` mappings to 360° (2π) and 180° (π) respectively. `str` values are taken to be percentiles from 0% to 100%. string values > 100% can also be used, where e.g. 104% is 4% larger than the 100th percentile value. This is used for the time here, so that the last sample doesnt trigger at exactly the end of the sonification, giving time for the sound to die away slowly."
   ]
  },
  {
   "cell_type": "code",
   "execution_count": null,
   "id": "3f7af9f1-fd56-4eea-89f7-34acb6b3681a",
   "metadata": {},
   "outputs": [],
   "source": [
    "datafile = pathlib.Path(\"..\", \"data\", \"datasets\", \"stars_paranal.txt\")\n",
    "mapcols =  {'azimuth':1, 'polar':0, 'volume':2, 'time':2, 'pitch':3}\n",
    "\n",
    "mapvals =  {'azimuth': lambda x : x,\n",
    "            'polar': lambda x : 90.-x,\n",
    "            'time': lambda x : x,\n",
    "            'pitch' : lambda x: -x,\n",
    "            'volume' : lambda x : (1+np.argsort(x).astype(float))**-0.2}\n",
    "\n",
    "maplims =  {'azimuth': (0, 360),\n",
    "            'polar': (0, 180), \n",
    "            'time': ('0%', '104%'),\n",
    "            'pitch' : ('0%', '100%'),\n",
    "            'volume' : ('0%', '100%')}\n",
    "\n",
    "events = Events(mapcols.keys())\n",
    "events.fromfile(datafile, mapcols)\n",
    "events.apply_mapping_functions(mapvals, maplims)"
   ]
  },
  {
   "cell_type": "markdown",
   "id": "933cf2e3-f812-465a-b1e5-ea548bec1374",
   "metadata": {},
   "source": [
    "<u> __The Generator:__ </u>\n",
    "\n",
    "The final element we need is a ***Generator*** that actually generates the audio given the ***Score*** and ***Sources***. Here, we use a ***Sampler***-type generator that plays an audio sample for each note. The samples and other parameters (not specified here) control the sound for each note. These can be specified in `dict` format note-by-note (keys are note name strings, entries are strings pointing to the `WAV` format audio sample to load) or just using a string that points to a sample directory (each sample filename in that directory ends with `_XX.wav` where `XX` is the note name) we use the example sample back in `./data/samples/glockenspiels` <span style=\"color:gray\">_(Note: rendering can take a while with the long audio samples we use here, shorter samples can be used to render faster, such as those in `./data/samples/mallets`. This is also useful if you want to try different notes or chords, as only the 5 notes specified above are provided in the glockenspiel sample folder.)_</span>\n"
   ]
  },
  {
   "cell_type": "code",
   "execution_count": null,
   "id": "61f5f7a1-4779-41c0-8c67-e0e4bb07c45a",
   "metadata": {},
   "outputs": [],
   "source": [
    "sampler = Sampler(pathlib.Path(\"..\", \"data\", \"samples\", \"glockenspiels\"))\n",
    "sampler.preset_details(\"default\")"
   ]
  },
  {
   "cell_type": "markdown",
   "id": "3a6fccfb-15aa-4b1f-96cf-a679241babf6",
   "metadata": {},
   "source": [
    "<u> __The Sonification:__ </u>\n",
    "\n",
    "We consolidate the three elements above in to a sonification object to generate the sound, specifying the audio setup (here `'stereo'` as opposed to `'mono'`, `'5.1'`, etc). <span style=\"color:gray\">_(Note: you can generate the audio in any specified audio setup, but following cells assume stereo and only mono and stereo formats are supported by the jupyter audio player in the final cell)_</span>\n",
    "\n",
    "We then `render` the sonification to generate the audio track (may take some time with the glockenspiel samples)."
   ]
  },
  {
   "cell_type": "code",
   "execution_count": null,
   "id": "1c0a5c32-69d9-4825-b0cd-1e6c6c5cb602",
   "metadata": {},
   "outputs": [],
   "source": [
    "system = \"stereo\""
   ]
  },
  {
   "cell_type": "code",
   "execution_count": null,
   "id": "4a57a09a-8c7c-4468-95d9-47e4ab5d346e",
   "metadata": {},
   "outputs": [],
   "source": [
    "soni = Sonification(score, events, sampler, system)\n",
    "soni.render()"
   ]
  },
  {
   "cell_type": "markdown",
   "id": "b510487e-bc86-491a-9fd2-f7b66f8062c8",
   "metadata": {},
   "source": [
    "Finally, let's visualise the waveform, and preview the audio in-notebook*!\n",
    "\n",
    "<span style=\"color:gray\">_*if using a surround sound format (i.e > 2 channels) the preview is stereo, with the first two channels mapped left and right, due to the limitations of the notebook audio player_</span>"
   ]
  },
  {
   "cell_type": "code",
   "execution_count": null,
   "id": "5649a014-78a7-4123-a0f5-bf7d877bfcab",
   "metadata": {},
   "outputs": [],
   "source": [
    "soni.notebook_display()"
   ]
  },
  {
   "cell_type": "markdown",
   "id": "e01f0622-1c1e-493e-8b55-860951ad331d",
   "metadata": {},
   "source": [
    "Run `soni.save_combined('<directory/to/filename.wav>')` if you want to save the sonification to a file.\n"
   ]
  },
  {
   "cell_type": "code",
   "execution_count": null,
   "id": "f81cfd74-281b-4646-b2b1-b4285f0cccd6",
   "metadata": {},
   "outputs": [],
   "source": [
    "soni.save(pathlib.Path('..', '..', f'rendered_stars_{system}.wav'),True)"
   ]
  }
 ],
 "metadata": {
  "kernelspec": {
   "display_name": "Python 3 (ipykernel)",
   "language": "python",
   "name": "python3"
  },
  "language_info": {
   "codemirror_mode": {
    "name": "ipython",
    "version": 3
   },
   "file_extension": ".py",
   "mimetype": "text/x-python",
   "name": "python",
   "nbconvert_exporter": "python",
   "pygments_lexer": "ipython3",
   "version": "3.12.8"
  }
 },
 "nbformat": 4,
 "nbformat_minor": 5
}
