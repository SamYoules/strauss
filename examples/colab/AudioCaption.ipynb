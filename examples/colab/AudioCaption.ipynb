{
 "cells": [
  {
   "cell_type": "markdown",
   "id": "4f0104e0-624e-4f3f-8c06-c455897accac",
   "metadata": {},
   "source": [
    "#### Preamble for `CoLab` "
   ]
  },
  {
   "cell_type": "markdown",
   "id": "4a39b999-87b6-4882-a31e-e63edf0a74a4",
   "metadata": {},
   "source": [
    "To use this notebook (if you haven't already) you can first save a copy to your local drive by clicking `File > Save a Copy in Drive` and run on that copy."
   ]
  },
  {
   "cell_type": "markdown",
   "id": "e8dfbb5f-1dd0-400f-ab8d-9c38993aeb73",
   "metadata": {},
   "source": [
    "_Note_: The underlying text-to-speech module has specific module requirements, so is implemented as an extra `TTS` to strauss which can be installed using `strauss[TTS]`. These modules may not play well with doms of the default modules in `Colab`, and may require a reset of the runtime."
   ]
  },
  {
   "cell_type": "markdown",
   "id": "3e856723-4cdf-422f-bfa8-b1db87acbe3b",
   "metadata": {},
   "source": [
    "_Note_: `Colab` is a really handy way to test and try `strauss`, though it will generally run and display audio more slowly than running on your local machine. For a more responsive experience, why not install `strauss` locally, following the instructions [on the Github](https://github.com/james-trayford/strauss)"
   ]
  },
  {
   "cell_type": "markdown",
   "id": "390dc799-051d-45d9-a83f-0d364bd2fa4a",
   "metadata": {},
   "source": [
    "Run these cells, so that the notebook functions on the _Google_ `Colab` platform:"
   ]
  },
  {
   "cell_type": "code",
   "execution_count": null,
   "id": "745b5f88-632e-4d47-aa29-923845ba2682",
   "metadata": {},
   "outputs": [],
   "source": [
    "%pip --quiet install strauss"
   ]
  },
  {
   "cell_type": "code",
   "execution_count": null,
   "id": "35fbd823-c183-4877-b096-3cdc0b0d8239",
   "metadata": {},
   "outputs": [],
   "source": [
    "!git clone https://github.com/james-trayford/strauss.git"
   ]
  },
  {
   "cell_type": "code",
   "execution_count": null,
   "id": "97cdfd0c-fb42-4015-a79c-a75c56a9b78c",
   "metadata": {},
   "outputs": [],
   "source": [
    "%cd strauss/examples/"
   ]
  },
  {
   "cell_type": "markdown",
   "id": "e5498e86-ef19-4ce0-b348-e731c7ef251c",
   "metadata": {},
   "source": [
    "### <u> Generate a sonification with an audio caption in `strauss` </u>\n",
    "Import the relevant modules:\n",
    "\n",
    "***Note***: you will need to have some form of python text-to-speech installed (`TTS` or `pyttsx3`) for these examples to work. See the error raised when trying to run the examples below for more info:"
   ]
  },
  {
   "cell_type": "code",
   "execution_count": null,
   "id": "e757f582-6c16-499c-81a4-bc8eb045e4da",
   "metadata": {},
   "outputs": [],
   "source": [
    "%reload_ext autoreload \n",
    "%autoreload 2\n",
    "from strauss.sonification import Sonification\n",
    "from strauss.sources import Events\n",
    "from strauss import channels\n",
    "from strauss.score import Score\n",
    "from strauss.tts_caption import render_caption\n",
    "import numpy as np\n",
    "from strauss.generator import Sampler\n",
    "import os\n",
    "from pathlib import Path\n",
    "import strauss\n",
    "%matplotlib inline\n",
    "\n",
    "mode = strauss.tts_caption.ttsMode"
   ]
  },
  {
   "cell_type": "markdown",
   "id": "52619522-a23f-4bd7-9ff7-311f31bab452",
   "metadata": {},
   "source": [
    "What text to speech do we have?"
   ]
  },
  {
   "cell_type": "code",
   "execution_count": null,
   "id": "2ac87885-8d98-4bac-a899-e4b67035d34e",
   "metadata": {},
   "outputs": [],
   "source": [
    "print(f\"Available text-to-speech (TTS) is: {mode}\")"
   ]
  },
  {
   "cell_type": "markdown",
   "id": "b8e502c5-af82-4514-96a2-4030c030d85a",
   "metadata": {},
   "source": [
    "Generate a placeholder sonification (a short sequence of glockenspiel notes) that we may want to add a caption to:"
   ]
  },
  {
   "cell_type": "code",
   "execution_count": null,
   "id": "44b3f8ae-1f46-4e65-becd-22d62b87b0d1",
   "metadata": {},
   "outputs": [],
   "source": [
    "# platform agnostic absolute path for samples...\n",
    "strauss_dir = Path(strauss.__file__).parents[2]\n",
    "sample_path = Path(strauss_dir, 'data','samples','glockenspiels')\n",
    "# setup used in stars appearing example\n",
    "chords = [['Db3','Gb3', 'Ab3', 'Eb4','F4']]\n",
    "length = 6\n",
    "system = 'stereo'\n",
    "score =  Score(chords, length)\n",
    "\n",
    "maplims =  {'time': ('0', '150'),\n",
    "            'pitch' : ('0', '100'),\n",
    "           'phi':('0','100'),\n",
    "            'theta':('0','100')}\n",
    "\n",
    "events = Events(maplims.keys())\n",
    "\n",
    "data = {'pitch':np.arange(5),\n",
    "        'time':np.arange(5),\n",
    "       'phi': np.arange(5),\n",
    "       'theta': np.arange(5)}\n",
    "\n",
    "\n",
    "generator = Sampler(Path(sample_path))\n",
    "\n",
    "events.fromdict(data)\n",
    "events.apply_mapping_functions(map_lims=maplims)"
   ]
  },
  {
   "cell_type": "markdown",
   "id": "abf512f3-2be5-4128-88b9-572d8e51d97b",
   "metadata": {},
   "source": [
    "Now, lets look at the avaialble voices for our TTS engine:"
   ]
  },
  {
   "cell_type": "code",
   "execution_count": null,
   "id": "40027174-3ac1-49b5-8e20-60c3a53e2185",
   "metadata": {},
   "outputs": [],
   "source": [
    "from strauss.tts_caption import getVoices\n",
    "voices = getVoices(True)"
   ]
  },
  {
   "cell_type": "markdown",
   "id": "954649bd-b0a3-422b-97df-93d78a3dda55",
   "metadata": {},
   "source": [
    "Generate text-to-speech (TTS) for the caption, using the default choice of voice (`\"Jenny\"` for the `coqui-tts` module, OS default for `pyttsx3`)"
   ]
  },
  {
   "cell_type": "code",
   "execution_count": null,
   "id": "d4ec277d-1cec-4581-8b2c-a218d1d407ef",
   "metadata": {},
   "outputs": [],
   "source": [
    "caption_en = 'In the following audio, a glockenspiel is used to represent stars of varying colour.'\n",
    "\n",
    "soni = Sonification(score, events, generator, system,\n",
    "                    caption=caption_en)\n",
    "soni.render()\n",
    "soni.notebook_display(show_waveform=0)"
   ]
  },
  {
   "cell_type": "markdown",
   "id": "53cd0af1-b7a3-4802-9d54-a1c03656396e",
   "metadata": {},
   "source": [
    "We could also try an alternative model, if one's available"
   ]
  },
  {
   "cell_type": "code",
   "execution_count": null,
   "id": "b659130b-ee6f-4cf8-a194-3fadf4e06f45",
   "metadata": {},
   "outputs": [],
   "source": [
    "caption_en = 'In the following audio, a glockenspiel is used to represent stars of varying colour.'\n",
    "\n",
    "if mode == 'coqui-tts':\n",
    "    soni = Sonification(score, events, generator, system,\n",
    "                        caption=caption_en,\n",
    "                       ttsmodel=Path('tts_models', 'eng', 'fairseq', 'vits'))\n",
    "elif mode == 'pyttsx3':\n",
    "    for v in voices[::-1]:\n",
    "        #print(v.languages[0][:2])\n",
    "        if v.languages[0][:2] == 'en':\n",
    "            break\n",
    "    print(f\"Selected voice: {v.name}\")\n",
    "    soni = Sonification(score, events, generator, system,\n",
    "                        caption=caption_en,\n",
    "                       ttsmodel={'voice':v.id,\n",
    "                                 # we can also set a rate for pyttsx3 (int16)...\n",
    "                                'rate': 217})\n",
    "soni.render()\n",
    "soni.notebook_display(show_waveform=False)"
   ]
  },
  {
   "cell_type": "markdown",
   "id": "f73de9c3-cfc7-4bd7-83ee-3750818d76e4",
   "metadata": {},
   "source": [
    "Other TTS models are available in several languages. We can demonstrate a German voice, for example"
   ]
  },
  {
   "cell_type": "code",
   "execution_count": null,
   "id": "80191241-8561-4fd4-9c23-e010358455ef",
   "metadata": {},
   "outputs": [],
   "source": [
    "caption_de = \"In der folgenden Tonspur wird ein Glockenspiel verwendet um Sterne mit unterschiedlichen Farben zu repräsentieren.\"\n",
    "\n",
    "if mode == 'coqui-tts':\n",
    "    soni = Sonification(score, events, generator, system,\n",
    "                        caption=caption_de, \n",
    "                        ttsmodel=Path('tts_models', 'deu', 'fairseq', 'vits'))\n",
    "elif mode == 'pyttsx3':\n",
    "    # find a German-language voice...\n",
    "    has_voice = 0\n",
    "    for v in voices:\n",
    "        if v.languages[0][:2] == 'de':\n",
    "            has_voice = 1\n",
    "            break\n",
    "    if not has_voice:\n",
    "        print('no language-compatible voice, using first available...')\n",
    "        v = voices[0]\n",
    "    soni = Sonification(score, events, generator, system,\n",
    "                        caption=caption_de,\n",
    "                        ttsmodel={'voice':v.id})\n",
    "\n",
    "soni.render()\n",
    "soni.notebook_display(show_waveform=False)"
   ]
  },
  {
   "cell_type": "markdown",
   "id": "421aa6fb-1f00-486c-a532-7a3406fe42fd",
   "metadata": {},
   "source": [
    "**Note**: the `TTS` can behave unpredictably when using unrecognised characters or terms. Sometimes these will be mispronounced by the TTS, other times they could be skipped entirely. This can be circumvented by writing out the how symbols should be pronounced, or spelling phonetically to improve pronunciation:"
   ]
  },
  {
   "cell_type": "code",
   "execution_count": null,
   "id": "0ae4c0bc-dcb8-4f1b-a5e2-b2b917c6e041",
   "metadata": {},
   "outputs": [],
   "source": [
    "symbol_examples_en = 'The Lyman-α resonance is 1216 Å. The Lyman alpha resonance is twelve hundred and sixteen angstroms. '\n",
    "\n",
    "if mode == 'coqui-tts':\n",
    "    soni = Sonification(score, events, generator, system,\n",
    "                        caption=symbol_examples_en, \n",
    "                        ttsmodel=Path('tts_models', 'eng', 'fairseq', 'vits'))\n",
    "    \n",
    "elif mode == 'pyttsx3':\n",
    "    for v in voices[::-1]:\n",
    "        #print(v.languages[0][:2])\n",
    "        if v.languages[0][:2] == 'en':\n",
    "            break\n",
    "                       \n",
    "    soni = Sonification(score, events, generator, system,\n",
    "                        caption=symbol_examples_en)\n",
    "\n",
    "soni.render()\n",
    "soni.notebook_display(show_waveform=0)"
   ]
  }
 ],
 "metadata": {
  "kernelspec": {
   "display_name": "Python 3 (ipykernel)",
   "language": "python",
   "name": "python3"
  },
  "language_info": {
   "codemirror_mode": {
    "name": "ipython",
    "version": 3
   },
   "file_extension": ".py",
   "mimetype": "text/x-python",
   "name": "python",
   "nbconvert_exporter": "python",
   "pygments_lexer": "ipython3",
   "version": "3.12.7"
  }
 },
 "nbformat": 4,
 "nbformat_minor": 5
}
