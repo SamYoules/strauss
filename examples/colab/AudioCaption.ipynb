{
 "cells": [
  {
   "cell_type": "markdown",
   "id": "4f0104e0-624e-4f3f-8c06-c455897accac",
   "metadata": {},
   "source": [
    "#### Preamble for `CoLab` "
   ]
  },
  {
   "cell_type": "markdown",
   "id": "4a39b999-87b6-4882-a31e-e63edf0a74a4",
   "metadata": {},
   "source": [
    "To use this notebook (if you haven't already) you can first save a copy to your local drive by clicking `File > Save a Copy in Drive` and run on that copy."
   ]
  },
  {
   "cell_type": "markdown",
   "id": "e8dfbb5f-1dd0-400f-ab8d-9c38993aeb73",
   "metadata": {},
   "source": [
    "_Note_: The underlying text-to-speech module has specific module requirements, so is implemented as an extra `TTS` to strauss which can be installed using `strauss[TTS]`. These modules may not play well with doms of the default modules in `Colab`, and may require a reset of the runtime."
   ]
  },
  {
   "cell_type": "markdown",
   "id": "3e856723-4cdf-422f-bfa8-b1db87acbe3b",
   "metadata": {},
   "source": [
    "_Note_: `Colab` is a really handy way to test and try `strauss`, though it will generally run and display audio more slowly than running on your local machine. For a more responsive experience, why not install `strauss` locally, following the instructions [on the Github](https://github.com/james-trayford/strauss)"
   ]
  },
  {
   "cell_type": "markdown",
   "id": "390dc799-051d-45d9-a83f-0d364bd2fa4a",
   "metadata": {},
   "source": [
    "Run these cells, so that the notebook functions on the _Google_ `Colab` platform:"
   ]
  },
  {
   "cell_type": "code",
   "execution_count": null,
   "id": "745b5f88-632e-4d47-aa29-923845ba2682",
   "metadata": {},
   "outputs": [],
   "source": [
    "%pip --quiet install strauss"
   ]
  },
  {
   "cell_type": "code",
   "execution_count": null,
   "id": "35fbd823-c183-4877-b096-3cdc0b0d8239",
   "metadata": {},
   "outputs": [],
   "source": [
    "!git clone https://github.com/james-trayford/strauss.git"
   ]
  },
  {
   "cell_type": "code",
   "execution_count": null,
   "id": "97cdfd0c-fb42-4015-a79c-a75c56a9b78c",
   "metadata": {},
   "outputs": [],
   "source": [
    "%cd strauss/examples/"
   ]
  },
  {
   "cell_type": "markdown",
   "id": "9deca3ff-6806-4c06-9a2d-56de4ea598d5",
   "metadata": {},
   "source": [
    "### <u> Generate a sonification with an audio caption in `strauss` </u>\n",
    "Import the relevant modules:\n",
    "\n",
    "***Note***: you will need to have some form of python text-to-speech installed (`TTS` or `pyttsx3`) for these examples to work. See the error raised when trying to run the examples below for more info:"
   ]
  },
  {
   "cell_type": "code",
   "execution_count": null,
   "id": "b3fc22a9-97f2-4d37-977f-561ce8232992",
   "metadata": {},
   "outputs": [],
   "source": [
    "%reload_ext autoreload \n",
    "%autoreload 2\n",
    "from strauss.sonification import Sonification\n",
    "from strauss.sources import Events\n",
    "from strauss import channels\n",
    "from strauss.score import Score\n",
    "from strauss.tts_caption import render_caption\n",
    "import numpy as np\n",
    "from strauss.generator import Sampler\n",
    "import os\n",
    "from pathlib import Path\n",
    "import strauss\n",
    "%matplotlib inline\n",
    "\n",
    "mode = strauss.tts_caption.ttsMode"
   ]
  },
  {
   "cell_type": "markdown",
   "id": "e3c109e3-eea3-41ec-a523-df69fabf0f50",
   "metadata": {},
   "source": [
    "What text to speech do we have?"
   ]
  },
  {
   "cell_type": "code",
   "execution_count": null,
   "id": "931508cd-bf98-4889-9428-1cb09058c9ab",
   "metadata": {},
   "outputs": [],
   "source": [
    "print(f\"Available text-to-speech (TTS) is: {mode}\")"
   ]
  },
  {
   "cell_type": "markdown",
   "id": "e6c14fd6-3479-4393-a57b-c2e782107066",
   "metadata": {},
   "source": [
    "Generate a placeholder sonification (a short sequence of glockenspiel notes) that we may want to add a caption to:"
   ]
  },
  {
   "cell_type": "code",
   "execution_count": null,
   "id": "4aeda749-f191-4031-a21a-139fbf07feae",
   "metadata": {},
   "outputs": [],
   "source": [
    "# platform agnostic absolute path for samples...\n",
    "strauss_dir = Path(strauss.__file__).parents[2]\n",
    "sample_path = Path(strauss_dir, 'data','samples','glockenspiels')\n",
    "# setup used in stars appearing example\n",
    "chords = [['Db3','Gb3', 'Ab3', 'Eb4','F4']]\n",
    "length = 6\n",
    "system = 'stereo'\n",
    "score =  Score(chords, length)\n",
    "\n",
    "maplims =  {'time': ('0%', '150%'),\n",
    "            'pitch' : ('0%', '100%'),\n",
    "           'phi':('0%','100%'),\n",
    "            'theta':('0%','100%')}\n",
    "\n",
    "events = Events(maplims.keys())\n",
    "\n",
    "data = {'pitch':np.arange(5),\n",
    "        'time':np.arange(5),\n",
    "       'phi': np.arange(5),\n",
    "       'theta': np.arange(5)}\n",
    "\n",
    "\n",
    "generator = Sampler(Path(sample_path))\n",
    "\n",
    "events.fromdict(data)\n",
    "events.apply_mapping_functions(map_lims=maplims)"
   ]
  },
  {
   "cell_type": "markdown",
   "id": "c86c2a1c-61e2-4388-9e94-966e32fa2373",
   "metadata": {},
   "source": [
    "Now, lets look at the available voices for our TTS engine:"
   ]
  },
  {
   "cell_type": "code",
   "execution_count": null,
   "id": "bf38ed55-4fbe-43b6-9428-091b11f6bc9c",
   "metadata": {},
   "outputs": [],
   "source": [
    "from strauss.tts_caption import getVoices\n",
    "voices = getVoices(True)"
   ]
  },
  {
   "cell_type": "markdown",
   "id": "1da0d365-0f7f-40ec-aae2-93ace11ff31f",
   "metadata": {},
   "source": [
    "Generate text-to-speech (TTS) for the caption, using the default choice of voice (`\"Jenny\"` for the `coqui-tts` module, OS default for `pyttsx3`)"
   ]
  },
  {
   "cell_type": "code",
   "execution_count": null,
   "id": "74fe473e-7c2e-4558-9456-3d63c0b51764",
   "metadata": {},
   "outputs": [],
   "source": [
    "caption_en = 'In the following audio, a bell is used to represent stars of varying colour.'\n",
    "\n",
    "soni = Sonification(score, events, generator, system,\n",
    "                    caption=caption_en)\n",
    "soni.render()\n",
    "soni.notebook_display(show_waveform=0)"
   ]
  },
  {
   "cell_type": "markdown",
   "id": "a24197ab-b682-4f58-af70-dbceaa819393",
   "metadata": {},
   "source": [
    "We could also try an alternative model, if one's available"
   ]
  },
  {
   "cell_type": "code",
   "execution_count": null,
   "id": "dac49351-8e17-44f8-8a62-8fe649797ac3",
   "metadata": {},
   "outputs": [],
   "source": [
    "caption_en = 'In the following audio, a bell is used to represent stars of varying colour.'\n",
    "\n",
    "if mode == 'coqui-tts':\n",
    "    soni = Sonification(score, events, generator, system,\n",
    "                        caption=caption_en,\n",
    "                       ttsmodel=Path('tts_models', 'eng', 'fairseq', 'vits'))\n",
    "elif mode == 'pyttsx3':\n",
    "    for v in voices[::-1]:\n",
    "        #print(v.languages[0][:2])\n",
    "        if v.languages[0][:2] == 'en':\n",
    "            break\n",
    "    print(f\"Selected voice: {v.name}\")\n",
    "    soni = Sonification(score, events, generator, system,\n",
    "                        caption=caption_en,\n",
    "                       ttsmodel={'voice':v.id,\n",
    "                                 # we can also set a rate for pyttsx3 (int16)...\n",
    "                                'rate': 217})\n",
    "soni.render()\n",
    "soni.notebook_display(show_waveform=False)"
   ]
  },
  {
   "cell_type": "markdown",
   "id": "6d114c63-97c9-403c-8624-3fe8cc6370c7",
   "metadata": {},
   "source": [
    "Other TTS models are available in several languages. We can demonstrate a non-english voice, for example (to contribute your own langauge see [this open issue](https://github.com/james-trayford/strauss/issues/39))"
   ]
  },
  {
   "cell_type": "code",
   "execution_count": null,
   "id": "b1a85d61-5359-4478-9814-fb97f031beb6",
   "metadata": {},
   "outputs": [],
   "source": [
    "caption_de = \"In der folgenden Tonspur wird eine Glocke verwendet um Sterne mit unterschiedlichen Farben zu repräsentieren.\"\n",
    "\n",
    "if mode == 'coqui-tts':\n",
    "    language_index = 0 # or, pick a different index for another langauge\n",
    "    iso_codes = ['deu', 'spa', 'ita', 'pol', 'hin']\n",
    "    captions = [caption_de,\n",
    "                \"En el siguiente audio, se utiliza una campana para representar estrellas de diferentes colores.\",\n",
    "                \"Nell'audio seguente, il suono di un campanello verra utilizzato per rappresentare stelle di diversi colori.\",\n",
    "                \"W następującym nagraniu dźwiękowym dzwonek reprezentuje gwiazdy w różnych kolorach.\",\n",
    "                \"आगे आने वाले ऑडियो में विभिन्न रंगों के तारों को दर्शाने के लिए अलग-अलग स्वरों का उपयोग किया गया है।\"]\n",
    "    models = [Path('tts_models', 'de', 'thorsten', 'vits'),\n",
    "              Path('tts_models', iso_codes[1], 'fairseq', 'vits'),\n",
    "              Path('tts_models', 'it', 'mai_female', 'glow-tts'), \n",
    "              Path('tts_models', iso_codes[3], 'fairseq', 'vits'),\n",
    "              Path('tts_models', iso_codes[4], 'fairseq', 'vits')]\n",
    "    \n",
    "    soni = Sonification(score, events, generator, system,\n",
    "                        caption=captions[language_index], \n",
    "                        ttsmodel=models[language_index])\n",
    "elif mode == 'pyttsx3':\n",
    "    # find a German-language voice...\n",
    "    has_voice = 0\n",
    "    for v in voices:\n",
    "        if v.languages[0][:2] == 'de':\n",
    "            has_voice = 1\n",
    "            break\n",
    "    if not has_voice:\n",
    "        print('no language-compatible voice, using first available...')\n",
    "        v = voices[0]\n",
    "    soni = Sonification(score, events, generator, system,\n",
    "                        caption=caption_de,\n",
    "                        ttsmodel={'voice':v.id})\n",
    "\n",
    "soni.render()\n",
    "soni.notebook_display(show_waveform=False)"
   ]
  },
  {
   "cell_type": "markdown",
   "id": "9f49b632-798e-4822-8908-6315af7d9d1e",
   "metadata": {},
   "source": [
    "**Note**: the `TTS` can behave unpredictably when using unrecognised characters or terms. Sometimes these will be mispronounced by the TTS, other times they could be skipped entirely. This can be circumvented by writing out the how symbols should be pronounced, or spelling phonetically to improve pronunciation:"
   ]
  },
  {
   "cell_type": "code",
   "execution_count": null,
   "id": "e9098e3c-00b2-43ea-9801-f2d6dabc31ef",
   "metadata": {},
   "outputs": [],
   "source": [
    "symbol_examples_en = 'The Lyman-α resonance is 1216 Å. The Lyman alpha resonance is twelve hundred and sixteen angstroms. '\n",
    "\n",
    "if mode == 'coqui-tts':\n",
    "    soni = Sonification(score, events, generator, system,\n",
    "                        caption=symbol_examples_en, \n",
    "                        ttsmodel=Path('tts_models', 'eng', 'fairseq', 'vits'))\n",
    "    \n",
    "elif mode == 'pyttsx3':\n",
    "    for v in voices[::-1]:\n",
    "        #print(v.languages[0][:2])\n",
    "        if v.languages[0][:2] == 'en':\n",
    "            break\n",
    "                       \n",
    "    soni = Sonification(score, events, generator, system,\n",
    "                        caption=symbol_examples_en)\n",
    "\n",
    "soni.render()\n",
    "soni.notebook_display(show_waveform=0)"
   ]
  }
 ],
 "metadata": {
  "kernelspec": {
   "display_name": "Python 3 (ipykernel)",
   "language": "python",
   "name": "python3"
  },
  "language_info": {
   "codemirror_mode": {
    "name": "ipython",
    "version": 3
   },
   "file_extension": ".py",
   "mimetype": "text/x-python",
   "name": "python",
   "nbconvert_exporter": "python",
   "pygments_lexer": "ipython3",
   "version": "3.12.8"
  }
 },
 "nbformat": 4,
 "nbformat_minor": 5
}
