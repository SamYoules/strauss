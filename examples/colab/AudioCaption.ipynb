{
 "cells": [
  {
   "cell_type": "markdown",
   "id": "3272be3c-932f-409a-8e92-33e65d14ffe6",
   "metadata": {},
   "source": [
    "#### Preamble for `CoLab` "
   ]
  },
  {
   "cell_type": "markdown",
   "id": "48824588-1e6d-4d3a-9b2f-2e05632868b5",
   "metadata": {},
   "source": [
    "To use this notebook (if you haven't already) you can first save a copy to your local drive by clicking `File > Save a Copy in Drive` and run on that copy."
   ]
  },
  {
   "cell_type": "markdown",
   "id": "aed60e16-f370-4473-a22d-2f395c993af5",
   "metadata": {},
   "source": [
    "_Note_: The underlying text-to-speech module has specific module requirements, so is implemented as an extra `TTS` to strauss which can be installed using `strauss[TTS]`. These modules may not play well with doms of the default modules in `Colab`, and may require a reset of the runtime."
   ]
  },
  {
   "cell_type": "markdown",
   "id": "6b2a57c5-82b9-4339-9ba3-7328474db7b4",
   "metadata": {},
   "source": [
    "_Note_: `Colab` is a really handy way to test and try `strauss`, though it will generally run and display audio more slowly than running on your local machine. For a more responsive experience, why not install `strauss` locally, following the instructions [on the Github](https://github.com/james-trayford/strauss)"
   ]
  },
  {
   "cell_type": "markdown",
   "id": "adbe56e2-3bbf-44c7-a228-11538e08a12a",
   "metadata": {},
   "source": [
    "Run these cells, so that the notebook functions on the _Google_ `Colab` platform:"
   ]
  },
  {
   "cell_type": "code",
   "execution_count": null,
   "id": "70726b2e-993b-4ea8-a527-124043aee477",
   "metadata": {},
   "outputs": [],
   "source": [
    "%pip --quiet install strauss[TTS]"
   ]
  },
  {
   "cell_type": "code",
   "execution_count": null,
   "id": "e4bf0596-1934-40ba-9d8d-27a955ad600f",
   "metadata": {},
   "outputs": [],
   "source": [
    "!git clone https://github.com/james-trayford/strauss.git"
   ]
  },
  {
   "cell_type": "code",
   "execution_count": null,
   "id": "8d4c2fe4-71ba-48ec-9efa-120b613dadf4",
   "metadata": {},
   "outputs": [],
   "source": [
    "%cd strauss/examples/"
   ]
  },
  {
   "cell_type": "markdown",
   "id": "e5498e86-ef19-4ce0-b348-e731c7ef251c",
   "metadata": {},
   "source": [
    "### <u> Generate a sonification with an audio caption in `strauss` </u>\n",
    "Import the relevant modules:"
   ]
  },
  {
   "cell_type": "code",
   "execution_count": null,
   "id": "2ebc7e44-2cc4-4106-a5fe-3d01f49bb8f1",
   "metadata": {},
   "outputs": [],
   "source": [
    "%reload_ext autoreload \n",
    "%autoreload 2\n",
    "from strauss.sonification import Sonification\n",
    "from strauss.sources import Events\n",
    "from strauss import channels\n",
    "from strauss.score import Score\n",
    "from strauss.tts_caption import render_caption\n",
    "import numpy as np\n",
    "from strauss.generator import Sampler\n",
    "%matplotlib inline\n",
    "import os"
   ]
  },
  {
   "cell_type": "markdown",
   "id": "97964d85-d186-4799-ba11-662f92b935fc",
   "metadata": {},
   "source": [
    "Generate a placeholder sonification (a short sequence of glockenspiel notes) that we may want to add a caption to:"
   ]
  },
  {
   "cell_type": "code",
   "execution_count": null,
   "id": "6c6e8f4c-e8d7-491b-b264-bf77d28f70d1",
   "metadata": {},
   "outputs": [],
   "source": [
    "# platform agnostic absolute path for samples...\n",
    "import strauss\n",
    "sample_path = '../data/samples/glockenspiels'\n",
    "\n",
    "# setup used in stars appearing example\n",
    "chords = [['Db3','Gb3', 'Ab3', 'Eb4','F4']]\n",
    "length = 6\n",
    "system = 'stereo'\n",
    "score =  Score(chords, length)\n",
    "\n",
    "maplims =  {'time': ('0', '150'),\n",
    "            'pitch' : ('0', '100'),\n",
    "           'phi':('0','100'),\n",
    "            'theta':('0','100')}\n",
    "\n",
    "events = Events(maplims.keys())\n",
    "\n",
    "data = {'pitch':np.arange(5),\n",
    "        'time':np.arange(5),\n",
    "       'phi': np.arange(5),\n",
    "       'theta': np.arange(5)}\n",
    "\n",
    "\n",
    "generator = Sampler(sample_path)\n",
    "\n",
    "events.fromdict(data)\n",
    "events.apply_mapping_functions(map_lims=maplims)"
   ]
  },
  {
   "cell_type": "markdown",
   "id": "b7d1566f-ff8c-4e21-8ceb-f743394fa4a5",
   "metadata": {},
   "source": [
    "Generate text-to-speech (TTS) for the caption, using the default choice of voice (`\"Jenny\"` from the `TTS` module)"
   ]
  },
  {
   "cell_type": "code",
   "execution_count": null,
   "id": "68b04f22-2f43-4ba6-9c8b-4ed35b31a983",
   "metadata": {},
   "outputs": [],
   "source": [
    "caption_en = 'In the following audio, a glockenspiel is used to represent stars of varying colour.'\n",
    "\n",
    "# render at default 48 kHz rate\n",
    "soni = Sonification(score, events, generator, system,\n",
    "                    caption=caption_en)\n",
    "soni.render()\n",
    "soni.notebook_display(show_waveform=0)"
   ]
  },
  {
   "cell_type": "code",
   "execution_count": null,
   "id": "7cf1c196-810c-433f-b901-0e59ed97f299",
   "metadata": {},
   "outputs": [],
   "source": [
    "caption_en = 'In the following audio, a glockenspiel is used to represent stars of varying colour.'\n",
    "\n",
    "soni = Sonification(score, events, generator, system,\n",
    "                    caption=caption_en,\n",
    "                   ttsmodel='tts_models/en/ljspeech/tacotron2-DDC')\n",
    "soni.render()\n",
    "soni.notebook_display(show_waveform=False)"
   ]
  },
  {
   "cell_type": "markdown",
   "id": "f62aa36e-43f5-4bf8-947d-5d79b37f7256",
   "metadata": {},
   "source": [
    "Other TTS models are available in several languages. We can demonstrate a German voice, for example"
   ]
  },
  {
   "cell_type": "code",
   "execution_count": null,
   "id": "948bda34-99bf-4db3-95b9-0a23e28088ad",
   "metadata": {},
   "outputs": [],
   "source": [
    "caption_de = \"In der folgenden Tonspur wird ein Glockenspiel verwendet um Sterne mit unterschiedlichen Farben zu repräsentieren.\"\n",
    "\n",
    "soni = Sonification(score, events, generator, system,\n",
    "                    caption=caption_de, \n",
    "                    ttsmodel=\"tts_models/de/thorsten/vits\")\n",
    "soni.render()\n",
    "soni.notebook_display(show_waveform=False)"
   ]
  },
  {
   "cell_type": "markdown",
   "id": "ff8db018-02e3-48c2-a043-6ba132c1e239",
   "metadata": {},
   "source": [
    "**Note**: the AI-based `TTS` can behave strangely when using unrecognised characters or terms. Sometimes these will be mispronounced by the TTS, other times they could be skipped entirely. This can be circumvented by writing out the how symbols should be pronounced, or spelling phonetically to improve pronunciation:"
   ]
  },
  {
   "cell_type": "code",
   "execution_count": null,
   "id": "8fe89982-2b1f-4339-a789-63f20b5f6ebb",
   "metadata": {},
   "outputs": [],
   "source": [
    "symbol_examples_en = 'The Lyman-α resonance is 1216 Å. The Lyman alpha resonance is twelve hundred and sixteen angstroms. '\n",
    "\n",
    "soni = Sonification(score, events, generator, system,\n",
    "                    caption=symbol_examples_en+caption_en)\n",
    "soni.render()\n",
    "soni.notebook_display(show_waveform=0)"
   ]
  },
  {
   "cell_type": "markdown",
   "id": "5a9db75d-6da4-4a9c-92d6-e31caee18e86",
   "metadata": {},
   "source": [
    "Captions can be used to provide context to sonifications, explaining what to listen for.\n",
    "\n",
    "We can list available models for the TTS module (including `Jenny` the default `strauss` voice):"
   ]
  },
  {
   "cell_type": "code",
   "execution_count": null,
   "id": "c216a84c-2fd4-46a0-abc1-a152bc77b639",
   "metadata": {},
   "outputs": [],
   "source": [
    "from strauss.tts_caption import TTS\n",
    "TTS().list_models().list_tts_models()"
   ]
  }
 ],
 "metadata": {
  "kernelspec": {
   "display_name": "Python 3 (ipykernel)",
   "language": "python",
   "name": "python3"
  },
  "language_info": {
   "codemirror_mode": {
    "name": "ipython",
    "version": 3
   },
   "file_extension": ".py",
   "mimetype": "text/x-python",
   "name": "python",
   "nbconvert_exporter": "python",
   "pygments_lexer": "ipython3",
   "version": "3.11.9"
  }
 },
 "nbformat": 4,
 "nbformat_minor": 5
}
