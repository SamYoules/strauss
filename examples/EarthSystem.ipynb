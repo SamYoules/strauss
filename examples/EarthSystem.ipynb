{
 "cells": [
  {
   "cell_type": "markdown",
   "id": "03b73a45",
   "metadata": {},
   "source": [
    "### <u> Generate the Planetary Orbit sonifications used in the \"_Audible Universe_\" planetarium show </u>"
   ]
  },
  {
   "cell_type": "markdown",
   "id": "37f21355",
   "metadata": {},
   "source": [
    "**First, import relevant modules:**"
   ]
  },
  {
   "cell_type": "code",
   "execution_count": null,
   "id": "f64e736a",
   "metadata": {},
   "outputs": [],
   "source": [
    "%reload_ext autoreload \n",
    "%autoreload 2\n",
    "%matplotlib inline\n",
    "import matplotlib.pyplot as plt\n",
    "import ffmpeg as ff\n",
    "import wavio as wav\n",
    "from strauss.sonification import Sonification\n",
    "from strauss.sources import SingleObject\n",
    "from strauss import channels\n",
    "from strauss.score import Score\n",
    "import numpy as np\n",
    "from strauss.generator import Synthesizer\n",
    "import IPython.display as ipd\n",
    "import os\n",
    "from scipy.interpolate import interp1d"
   ]
  },
  {
   "cell_type": "markdown",
   "id": "c4a3e9c2-e9e3-48ca-a21c-0ae64bb549f6",
   "metadata": {},
   "source": [
    "**Collate the notes we are using to represent each planet and their orbital periods, as well as the length of each sonification**\n",
    "\n",
    "Then, combine these into dictionaries so they can be easily indexed"
   ]
  },
  {
   "cell_type": "code",
   "execution_count": null,
   "id": "fbf7b1b5-79b7-4a2a-a8e9-15f196a15ca6",
   "metadata": {},
   "outputs": [],
   "source": [
    "datafile = \"../data/datasets/landfrac.txt\"\n",
    "data = np.genfromtxt(datafile)\n",
    "\n",
    "longitude = data[:,0]\n",
    "waterfrac = 1-data[:,1]\n",
    "\n",
    "startlong = 180-(96 + 15./60 + 2.2/3600)\n",
    "print(startlong-180)\n",
    "# we travel backwards in longitude per the earth's rotation\n",
    "longgrid = (np.linspace(startlong,720+startlong,2599)%360 - 180.)[::-1] \n",
    "wfrac = interp1d(longitude, waterfrac)\n",
    "\n",
    "wfracgrid = wfrac(longgrid)*0.75 + 0.15\n",
    "timegrid = np.linspace(0,1,wfracgrid.size)\n",
    "\n",
    "plt.plot(timegrid, wfracgrid)\n",
    "plt.show()\n"
   ]
  },
  {
   "cell_type": "code",
   "execution_count": null,
   "id": "009d6c9a-fb4c-4cd9-a87d-ccae4f280d89",
   "metadata": {},
   "outputs": [],
   "source": [
    "# chord representing the earth (a Gbsus7 chord)\n",
    "notes = [['B4']] #[['Gb3', 'Db4', 'E4', 'B5']]\n",
    "\n",
    "# specify audio system (e.g. mono, stereo, 5.1, ...)\n",
    "system = \"stereo\"\n",
    "\n",
    "length = 60.\n",
    "\n",
    "# set up synth and turn on LP filter\n",
    "generator = Synthesizer()\n",
    "generator.modify_preset({'filter':'on'}) \n",
    "print(generator.preset)"
   ]
  },
  {
   "cell_type": "markdown",
   "id": "b7a7b7ed-6da8-4694-8aef-df00a7277d42",
   "metadata": {},
   "source": [
    "**Render sonification for specified planet...**"
   ]
  },
  {
   "cell_type": "code",
   "execution_count": null,
   "id": "7c92480b-345a-4212-883c-b9eded4060d5",
   "metadata": {},
   "outputs": [],
   "source": [
    "score =  Score(notes, length)\n",
    "print(2001*1322)\n",
    "# volume swell is directly ahead\n",
    "data = {'cutoff':wfracgrid,\n",
    "        'time_evo':timegrid,\n",
    "        'pitch':np.ones(timegrid.size)}\n",
    "\n",
    "# set up source\n",
    "events = SingleObject(data.keys())\n",
    "events.fromdict(data)\n",
    "events.apply_mapping_functions()\n",
    "\n",
    "soni = Sonification(score, events, generator, system)\n",
    "soni.render()"
   ]
  },
  {
   "cell_type": "markdown",
   "id": "171f4766-3a4d-49c1-b6b9-baf7260dec27",
   "metadata": {},
   "source": [
    "**Listen to and plot the waveforms from the sonification:**"
   ]
  },
  {
   "cell_type": "code",
   "execution_count": null,
   "id": "97dd6b8c",
   "metadata": {},
   "outputs": [],
   "source": [
    "# I should adapt this to an inbuilt function of the sonification class at some point...\n",
    "time = soni.out_channels['0'].samples / soni.out_channels['0'].samprate\n",
    "for i in range(len(soni.out_channels)):\n",
    "    plt.plot(time[::20], soni.out_channels[str(i)].values[::20]-1.2*i, label=soni.channels.labels[i])\n",
    "\n",
    "plt.xlabel('Time (s)')\n",
    "plt.ylabel('Relative Amplitude')\n",
    "plt.legend(frameon=False, loc=5)\n",
    "plt.xlim(-time[-1]*0.05,time[-1]*1.2)\n",
    "for s in plt.gca().spines.values():\n",
    "    s.set_visible(False)\n",
    "plt.gca().get_yaxis().set_visible(False)\n",
    "\n",
    "if len(soni.channels.labels) == 1:\n",
    "    # we have used 441000 Hz everywhere above as standard, but to quickly hear the sonification sped up / slowed down,\n",
    "    # you can modify the 'rate' argument below (e.g. multiply by 0.5 for half speed, by 2 for double speed, etc)\n",
    "    outfmt = np.column_stack([soni.out_channels['0'].values, soni.out_channels['0'].values]).T\n",
    "else:\n",
    "    outfmt = np.column_stack([soni.out_channels['0'].values, soni.out_channels['1'].values]).T\n",
    "ipd.Audio(outfmt,rate=soni.out_channels['0'].samprate, autoplay=False)"
   ]
  },
  {
   "cell_type": "markdown",
   "id": "14aae7e4-28fd-47bb-af1a-9a953370969c",
   "metadata": {},
   "source": [
    "**Combine and save sonification to a multi-channel wav** \n",
    "\n",
    "NOTE: Change `\"../../FILENAME.wav\"` to your filepath of choice"
   ]
  },
  {
   "cell_type": "code",
   "execution_count": null,
   "id": "7bed74fc-a506-47d7-aff1-0ea6e200bd8a",
   "metadata": {},
   "outputs": [],
   "source": [
    "soni.save_combined(\"../../FILENAME.wav\", True)"
   ]
  },
  {
   "cell_type": "code",
   "execution_count": null,
   "id": "e98b7999-1102-43e2-97d2-9848699e3648",
   "metadata": {},
   "outputs": [],
   "source": [
    "data = {'phi':[],\n",
    "        'theta':[], # constant theta of 90 deg\n",
    "        'pitch':[],     # constant pitch\n",
    "        'volume':[],\n",
    "        'time_evo': []}\n",
    "\n",
    "n = 10000\n",
    "\n",
    "for k in planets:\n",
    "    panphase = np.random.random()*360.\n",
    "    # volume swell is directly ahead\n",
    "    volphase = panphase + 90\n",
    "\n",
    "    # setup score\n",
    "    score =  Score(chorddict[planet], lendict[planet])\n",
    "\n",
    "    # data dict\n",
    "    orbits_per_sonification = lendict[planet]/perioddict[planet]\n",
    "    orbital_phi = (np.linspace(0,orbits_per_sonification,n)%1)*360\n",
    "\n",
    "    data['phi'].append(orbital_phi + panphase)\n",
    "    data['theta'].append(np.ones(n)*90.) \n",
    "    data['pitch'].append(np.ones(n))\n",
    "    data['volume'].append(np.sin((orbital_phi + volphase) * np.pi/180.)*0.4+0.6)\n",
    "    data['time_evo'].append(np.linspace(0,1,n))\n",
    "\n",
    "# set up source\n",
    "events = SingleObject(mapvals.keys())\n",
    "events.fromdict(data)\n",
    "events.apply_mapping_functions(mapvals, maplims)\n",
    "\n",
    "soni = Sonification(score, events, sampler, system)\n",
    "soni.render()"
   ]
  },
  {
   "cell_type": "code",
   "execution_count": null,
   "id": "75a0fd99-8dc9-4ba3-af7f-e36e2078ba77",
   "metadata": {},
   "outputs": [],
   "source": []
  }
 ],
 "metadata": {
  "kernelspec": {
   "display_name": "Python 3 (ipykernel)",
   "language": "python",
   "name": "python3"
  },
  "language_info": {
   "codemirror_mode": {
    "name": "ipython",
    "version": 3
   },
   "file_extension": ".py",
   "mimetype": "text/x-python",
   "name": "python",
   "nbconvert_exporter": "python",
   "pygments_lexer": "ipython3",
   "version": "3.9.6"
  }
 },
 "nbformat": 4,
 "nbformat_minor": 5
}
