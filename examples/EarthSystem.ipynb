{
 "cells": [
  {
   "cell_type": "markdown",
   "id": "03b73a45",
   "metadata": {},
   "source": [
    "### <u> Generate the Planetary Orbit sonifications used in the \"_Audible Universe_\" planetarium show </u>"
   ]
  },
  {
   "cell_type": "markdown",
   "id": "37f21355",
   "metadata": {},
   "source": [
    "**First, import relevant modules:**"
   ]
  },
  {
   "cell_type": "code",
   "execution_count": null,
   "id": "f64e736a",
   "metadata": {},
   "outputs": [],
   "source": [
    "%reload_ext autoreload \n",
    "%autoreload 2\n",
    "%matplotlib inline\n",
    "import matplotlib.pyplot as plt\n",
    "import ffmpeg as ff\n",
    "import wavio as wav\n",
    "from strauss.sonification import Sonification\n",
    "from strauss.sources import SingleObject\n",
    "from strauss import channels\n",
    "from strauss.score import Score\n",
    "import numpy as np\n",
    "from strauss.generator import Synthesizer\n",
    "import IPython.display as ipd\n",
    "import os\n",
    "from scipy.interpolate import interp1d"
   ]
  },
  {
   "cell_type": "markdown",
   "id": "c4a3e9c2-e9e3-48ca-a21c-0ae64bb549f6",
   "metadata": {},
   "source": [
    "**Collate the notes we are using to represent each planet and their orbital periods, as well as the length of each sonification**\n",
    "\n",
    "Then, combine these into dictionaries so they can be easily indexed"
   ]
  },
  {
   "cell_type": "code",
   "execution_count": null,
   "id": "fbf7b1b5-79b7-4a2a-a8e9-15f196a15ca6",
   "metadata": {},
   "outputs": [],
   "source": [
    "datafile = \"../data/datasets/landfrac.txt\"\n",
    "data = np.genfromtxt(datafile)\n",
    "\n",
    "longitude = data[:,0]\n",
    "waterfrac = 1-data[:,1]\n",
    "\n",
    "startlong = 180-(96 + 15./60 + 2.2/3600)\n",
    "# we travel backwards in longitude per the earth's rotation\n",
    "longgrid = (np.linspace(startlong,720+startlong,2599)%360 - 180.)[::-1] \n",
    "wfrac = interp1d(longitude, waterfrac)\n",
    "\n",
    "wfracgrid = wfrac(longgrid)*0.75 + 0.15\n",
    "timegrid = np.linspace(0,1,wfracgrid.size)\n",
    "\n",
    "plt.plot(timegrid, wfracgrid)\n",
    "plt.show()\n"
   ]
  },
  {
   "cell_type": "code",
   "execution_count": null,
   "id": "009d6c9a-fb4c-4cd9-a87d-ccae4f280d89",
   "metadata": {},
   "outputs": [],
   "source": [
    "# chord representing the earth (a Gbsus7 chord)\n",
    "notes = [['B4']] #[['Gb3', 'Db4', 'E4', 'B5']]\n",
    "\n",
    "# specify audio system (e.g. mono, stereo, 5.1, ...)\n",
    "system = \"stereo\"\n",
    "\n",
    "length = 60.\n",
    "\n",
    "# set up synth and turn on LP filter\n",
    "generator = Synthesizer()\n",
    "generator.modify_preset({'filter':'on'}) \n",
    "print(generator.preset)"
   ]
  },
  {
   "cell_type": "markdown",
   "id": "b7a7b7ed-6da8-4694-8aef-df00a7277d42",
   "metadata": {},
   "source": [
    "**Render sonification for specified planet...**"
   ]
  },
  {
   "cell_type": "code",
   "execution_count": null,
   "id": "7c92480b-345a-4212-883c-b9eded4060d5",
   "metadata": {},
   "outputs": [],
   "source": [
    "score =  Score(notes, length)\n",
    "\n",
    "# volume swell is directly ahead\n",
    "data = {'cutoff':wfracgrid,\n",
    "        'time_evo':timegrid,\n",
    "        'pitch':np.ones(timegrid.size)}\n",
    "\n",
    "# set up source\n",
    "events = SingleObject(data.keys())\n",
    "events.fromdict(data)\n",
    "events.apply_mapping_functions()\n",
    "\n",
    "soni = Sonification(score, events, generator, system)\n",
    "soni.render()"
   ]
  },
  {
   "cell_type": "markdown",
   "id": "171f4766-3a4d-49c1-b6b9-baf7260dec27",
   "metadata": {},
   "source": [
    "**Listen to and plot the waveforms from the sonification:**"
   ]
  },
  {
   "cell_type": "code",
   "execution_count": null,
   "id": "97dd6b8c",
   "metadata": {},
   "outputs": [],
   "source": [
    "soni.notebook_display()"
   ]
  },
  {
   "cell_type": "markdown",
   "id": "14aae7e4-28fd-47bb-af1a-9a953370969c",
   "metadata": {},
   "source": [
    "**Combine and save sonification to a multi-channel wav** \n",
    "\n",
    "NOTE: Change `\"../../FILENAME.wav\"` to your filepath of choice"
   ]
  },
  {
   "cell_type": "code",
   "execution_count": null,
   "id": "7bed74fc-a506-47d7-aff1-0ea6e200bd8a",
   "metadata": {},
   "outputs": [],
   "source": [
    "soni.save_combined(\"../../FILENAME.wav\", True)"
   ]
  }
 ],
 "metadata": {
  "kernelspec": {
   "display_name": "Python 3 (ipykernel)",
   "language": "python",
   "name": "python3"
  },
  "language_info": {
   "codemirror_mode": {
    "name": "ipython",
    "version": 3
   },
   "file_extension": ".py",
   "mimetype": "text/x-python",
   "name": "python",
   "nbconvert_exporter": "python",
   "pygments_lexer": "ipython3",
   "version": "3.9.6"
  }
 },
 "nbformat": 4,
 "nbformat_minor": 5
}
