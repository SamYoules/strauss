{
 "cells": [
  {
   "cell_type": "markdown",
   "id": "3e6bc28d-622e-4a2e-b135-df58a7663eb2",
   "metadata": {},
   "source": [
    "# Simple Filter Sweep Demo"
   ]
  },
  {
   "cell_type": "markdown",
   "id": "a9ce531c-ba24-48cf-9ddb-d523245c917b",
   "metadata": {},
   "source": [
    "### Setup\n",
    "**Import relevant modules:**"
   ]
  },
  {
   "cell_type": "code",
   "execution_count": null,
   "id": "833c791d-636e-43b7-9829-b5cdca05f2ea",
   "metadata": {},
   "outputs": [],
   "source": [
    "import numpy as np\n",
    "import strauss.stream as strm\n",
    "import matplotlib.pyplot as plt\n",
    "from strauss.filters import HPF1, LPF1\n",
    "import IPython.display as ipd\n",
    "from strauss.notes import *\n",
    "from strauss.generator import *"
   ]
  },
  {
   "cell_type": "markdown",
   "id": "13370b27-6411-428a-ac83-7f4a833a6164",
   "metadata": {},
   "source": [
    "**Sonification length, in seconds**"
   ]
  },
  {
   "cell_type": "code",
   "execution_count": null,
   "id": "55d4c0fa-9007-45e3-9173-739954124f0a",
   "metadata": {},
   "outputs": [],
   "source": [
    "length = 2.5"
   ]
  },
  {
   "cell_type": "markdown",
   "id": "8db9670a-dda1-4764-9177-695380a91e10",
   "metadata": {},
   "source": [
    "**Sample frequency, in Hz *(usually `44100`):***"
   ]
  },
  {
   "cell_type": "code",
   "execution_count": null,
   "id": "6d7b7285-a3c4-413d-b5dd-512050078b5e",
   "metadata": {},
   "outputs": [],
   "source": [
    "sampfreq = 44100"
   ]
  },
  {
   "cell_type": "markdown",
   "id": "c21b86e2-6086-4acf-aa91-4d67e72be210",
   "metadata": {},
   "source": [
    "### Generating Audio\n",
    "**Initialise STRAUSS stream**"
   ]
  },
  {
   "cell_type": "code",
   "execution_count": null,
   "id": "a7d89116-cc82-48f4-be4e-2128989c7f92",
   "metadata": {},
   "outputs": [],
   "source": [
    "stream = strm.Stream(length, sampfreq)"
   ]
  },
  {
   "cell_type": "markdown",
   "id": "a0b702b1-0e73-4f6e-b181-a68bc8b9d71b",
   "metadata": {},
   "source": [
    "**Obtain frequency of note to generate in Hz:**"
   ]
  },
  {
   "cell_type": "code",
   "execution_count": null,
   "id": "be3675f9-04fb-4472-8da8-d6d1706d8758",
   "metadata": {},
   "outputs": [],
   "source": [
    "nfreq = parse_note(\"B3\")\n",
    "print(f\"B3 frequency: {nfreq:.2f} Hz\")"
   ]
  },
  {
   "cell_type": "markdown",
   "id": "d1a57cc7-b8ee-429b-a0ad-257c534a49d5",
   "metadata": {},
   "source": [
    "**Generate simple square wave & listen**\n",
    "\n",
    "*WARNING: Maximally loud signal, please be careful when listening through headphones or powerful speakers*"
   ]
  },
  {
   "cell_type": "code",
   "execution_count": null,
   "id": "a206d26e-15f7-4f65-a95b-a78f0ffcdf5e",
   "metadata": {},
   "outputs": [],
   "source": [
    "stream.values = np.where((stream.samples * nfreq / sampfreq) % 2 > 1, -1., 1.)\n",
    "ipd.Audio(stream.values, rate=sampfreq, autoplay=False)"
   ]
  },
  {
   "cell_type": "markdown",
   "id": "7f808daa-f997-420a-8a8d-197fc34cb89d",
   "metadata": {},
   "source": [
    "**Try a chord. Reset the stream and (by default choose`F#add9`, i.e. `F#`, `A#`, `C#` and `G#`):**"
   ]
  },
  {
   "cell_type": "markdown",
   "id": "9f85df8d-d3fd-4f6a-a2c1-8c1166e47d5d",
   "metadata": {},
   "source": [
    "*Note: run `stream.reset()` before re-generating each chord to avoid superimposing the previous chord*"
   ]
  },
  {
   "cell_type": "code",
   "execution_count": null,
   "id": "b04fa76f-ee7b-4252-b92f-51464ab372ef",
   "metadata": {},
   "outputs": [],
   "source": [
    "stream.reset()\n",
    "chordname = \"F#add9\""
   ]
  },
  {
   "cell_type": "markdown",
   "id": "3bdd5bb7-26fe-403f-bfd0-2479a79e9d37",
   "metadata": {},
   "source": [
    "**Show frequencies of note to generate in Hz:**"
   ]
  },
  {
   "cell_type": "code",
   "execution_count": null,
   "id": "6bd50b7a-e836-4777-a1c6-0eb4563f3f3c",
   "metadata": {},
   "outputs": [],
   "source": [
    "nfreqs = parse_chord(chordname, rootoct=6)\n",
    "print(nfreqs)"
   ]
  },
  {
   "cell_type": "markdown",
   "id": "a2cf51f8-7833-4d6c-9b32-493ca9cb05b3",
   "metadata": {},
   "source": [
    "**Generate simple square wave & listen**"
   ]
  },
  {
   "cell_type": "code",
   "execution_count": null,
   "id": "d0e05bfa-296e-430a-8b9e-f5727a5dbb8b",
   "metadata": {},
   "outputs": [],
   "source": [
    "gen_chord(stream, chordname, 5)\n",
    "ipd.Audio(stream.values, rate=sampfreq, autoplay=False)"
   ]
  },
  {
   "cell_type": "markdown",
   "id": "b7519388-8b78-4a32-88e5-2187a7f4def6",
   "metadata": {},
   "source": [
    "### Filter sweep using mock data\n",
    "**Create filter sweep mapping function:**\n",
    "\n",
    "These mapping functions must be scaled to accept $x \\in [0,1]$ and return $y \\in [0,1]$"
   ]
  },
  {
   "cell_type": "code",
   "execution_count": null,
   "id": "53091af0-8020-4e34-b551-fe8b682d6633",
   "metadata": {},
   "outputs": [],
   "source": [
    "sfunc = lambda x: (0.3-0.5*x+(0.5+np.sin(x*8*np.pi)*0.1+np.random.random(len(x))*0.07))**0.6\n",
    "plt.scatter(np.linspace(0,1,400), sfunc(np.linspace(0,1,400)), s=5)"
   ]
  },
  {
   "cell_type": "markdown",
   "id": "ac90e0ae-d5a8-4bfb-b849-4d460dce592f",
   "metadata": {},
   "source": [
    "**Apply filter sweep & listen:**"
   ]
  },
  {
   "cell_type": "code",
   "execution_count": null,
   "id": "aa846490-2416-436a-9a38-29a551803872",
   "metadata": {},
   "outputs": [],
   "source": [
    "stream.bufferize(0.02)\n",
    "stream.filt_sweep(LPF1, sfunc)\n",
    "ipd.Audio(stream.values, rate=sampfreq, autoplay=False)"
   ]
  },
  {
   "cell_type": "code",
   "execution_count": null,
   "id": "4c4a1f51-10ac-4a87-a19f-b369e558607a",
   "metadata": {},
   "outputs": [],
   "source": []
  }
 ],
 "metadata": {
  "kernelspec": {
   "display_name": "Python 3 (ipykernel)",
   "language": "python",
   "name": "python3"
  },
  "language_info": {
   "codemirror_mode": {
    "name": "ipython",
    "version": 3
   },
   "file_extension": ".py",
   "mimetype": "text/x-python",
   "name": "python",
   "nbconvert_exporter": "python",
   "pygments_lexer": "ipython3",
   "version": "3.9.6"
  }
 },
 "nbformat": 4,
 "nbformat_minor": 5
}
