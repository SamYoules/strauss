{
 "cells": [
  {
   "cell_type": "markdown",
   "id": "03b73a45",
   "metadata": {},
   "source": [
    "### <u> Convert stellar spectrum to an audio spectrum and generate the sound</u>"
   ]
  },
  {
   "cell_type": "markdown",
   "id": "37f21355",
   "metadata": {},
   "source": [
    "First, we import relevant modules:"
   ]
  },
  {
   "cell_type": "code",
   "execution_count": null,
   "id": "f64e736a",
   "metadata": {},
   "outputs": [],
   "source": [
    "%matplotlib inline\n",
    "%reload_ext autoreload \n",
    "%autoreload 2\n",
    "import matplotlib.pyplot as plt\n",
    "import ffmpeg as ff\n",
    "import wavio as wav\n",
    "from strauss.sonification import Sonification\n",
    "from strauss.sources import MultiEvents\n",
    "from strauss import channels\n",
    "from strauss.score import Score\n",
    "import numpy as np\n",
    "from strauss.generator import Sampler, Synthesizer\n",
    "import IPython.display as ipd\n",
    "from IPython.core.display import display\n",
    "import os\n",
    "from scipy.signal import savgol_filter"
   ]
  },
  {
   "cell_type": "markdown",
   "id": "a3c63f1e-11a8-4a44-baf9-14d1b68de827",
   "metadata": {},
   "source": [
    "then, define display function for sonifications:"
   ]
  },
  {
   "cell_type": "code",
   "execution_count": null,
   "id": "cfebf746-1ef4-42b6-a9e3-a49cbc6b1607",
   "metadata": {},
   "outputs": [],
   "source": [
    "def display_sonification(soni, color='C0'):\n",
    "    time = soni.out_channels['0'].samples / soni.out_channels['0'].samprate\n",
    "\n",
    "    bellenv = pow(time,0.25)*np.exp(-time/1.2)**1.\n",
    "    \n",
    "\n",
    "    for i in range(len(soni.out_channels)):\n",
    "        plt.plot(time[::20], bellenv[::20]*soni.out_channels[str(i)].values[::20]-1.2*i, label=soni.channels.labels[i], c=color)\n",
    "\n",
    "    plt.xlabel('Time (s)')\n",
    "    plt.ylabel('Relative Amplitude')\n",
    "    plt.legend(frameon=False, loc=5)\n",
    "    plt.xlim(-time[-1]*0.05,time[-1]*1.2)\n",
    "    for s in plt.gca().spines.values():\n",
    "        s.set_visible(False)\n",
    "    plt.gca().get_yaxis().set_visible(False)\n",
    "\n",
    "    if len(soni.channels.labels) == 1:\n",
    "        # we have used 441000 Hz everywhere above as standard, but to quickly hear the sonification sped up / slowed down,\n",
    "        # you can modify the 'rate' argument below (e.g. multiply by 0.5 for half speed, by 2 for double speed, etc)\n",
    "        outfmt = np.column_stack([soni.out_channels['0'].values, soni.out_channels['0'].values]).T\n",
    "    else:\n",
    "        outfmt = np.column_stack([soni.out_channels['0'].values, soni.out_channels['1'].values]).T\n",
    "    display(ipd.Audio(outfmt*bellenv,rate=soni.out_channels['0'].samprate, autoplay=False))\n"
   ]
  },
  {
   "cell_type": "code",
   "execution_count": null,
   "id": "b499f966-798d-47a2-8089-4935cbbe6509",
   "metadata": {},
   "outputs": [],
   "source": [
    "data = np.genfromtxt('../data/datasets/M_spectrum.txt')\n",
    "Nharms = data.shape[0]\n",
    "freq = 1/data[:,0]\n",
    "freq = (freq - freq.min()) / (freq.max() - freq.min())\n",
    "freq = ((freq)*8e3) + 20\n",
    "\n",
    "chords = [freq]\n",
    "length = \"0m 1s\"\n",
    "score =  Score(chords, length)\n",
    "system = 'stereo'"
   ]
  },
  {
   "cell_type": "code",
   "execution_count": null,
   "id": "d8c86ca8-d36d-4b9f-ac6f-a6826f77b538",
   "metadata": {},
   "outputs": [],
   "source": [
    "generator = Synthesizer()\n",
    "\n",
    "generator.load_preset('spectraliser')"
   ]
  },
  {
   "cell_type": "code",
   "execution_count": null,
   "id": "b15ef66f-5b49-486f-b946-87f3f51c7b23",
   "metadata": {},
   "outputs": [],
   "source": [
    "mapvals =  {'phi': lambda x : x,\n",
    "            'theta': lambda x : x,\n",
    "            'pitch' : lambda x: x,\n",
    "            'volume' : lambda x: x}\n",
    "\n",
    "maplims =  {'phi': (0, 360),\n",
    "            'theta': (0, 180),\n",
    "            'pitch' : ('0', '100'),\n",
    "            'volume' : (0, 22)}\n",
    "\n",
    "# set as high and low pitch respectively\n",
    "ps = np.arange(Nharms)\n",
    "\n",
    "# hard pan the sets left and right\n",
    "phis = np.zeros(Nharms)\n",
    "\n",
    "# place on equatorial plane\n",
    "thetas = np.ones(Nharms)*90"
   ]
  },
  {
   "cell_type": "code",
   "execution_count": null,
   "id": "37f1ce45-cbbb-4d53-9d70-259bc1edfb5b",
   "metadata": {},
   "outputs": [],
   "source": [
    "volumes_M = data[:,1]\n",
    "volumes_smooth_M = savgol_filter(volumes_M, 51, 3)\n",
    "\n",
    "volumes_negfeats_M = -np.clip((volumes_M - volumes_smooth_M), -np.inf, 0)\n",
    "volumes_posfeats_M = np.clip((volumes_M - volumes_smooth_M), 0, np.inf)\n",
    "plt.plot(freq, volumes_M, c='k', alpha=0.3)\n",
    "plt.plot(freq, volumes_smooth_M - 0.6*volumes_M.max())\n",
    "plt.plot(freq, volumes_negfeats_M**0.5 - 1.2*volumes_M.max())\n",
    "plt.plot(freq, volumes_posfeats_M**0.5 - 1.8*volumes_M.max())\n",
    "plt.gca().get_yaxis().set_visible(False)\n",
    "plt.xlabel(\"Frequency (Hz)\")\n",
    "plt.savefig(\"../../M_class_spectrum.pdf\")\n",
    "plt.show()"
   ]
  },
  {
   "cell_type": "code",
   "execution_count": null,
   "id": "ba7ef182-745d-4d08-96b7-74af17fbc421",
   "metadata": {
    "tags": []
   },
   "outputs": [],
   "source": [
    "events = MultiEvents(['phi', 'theta', 'pitch', 'volume'])\n",
    "events.raw_mapping = dict(zip(['phi', 'theta', 'pitch', 'volume'],\n",
    "                           [phis, thetas, ps, volumes_M]))\n",
    "\n",
    "events.apply_mapping_functions(mapvals, maplims)\n",
    "events.n_sources = ps.shape[0]\n",
    "soni_M = Sonification(score, events, generator, system)\n",
    "soni_M.render()"
   ]
  },
  {
   "cell_type": "code",
   "execution_count": null,
   "id": "4bd65931-3417-4386-8f0e-39408c435499",
   "metadata": {
    "tags": []
   },
   "outputs": [],
   "source": [
    "display_sonification(soni_M, color='0.8')"
   ]
  },
  {
   "cell_type": "code",
   "execution_count": null,
   "id": "e8ff7b78-5449-4980-97f5-44609ccec819",
   "metadata": {
    "tags": []
   },
   "outputs": [],
   "source": [
    "events = MultiEvents(['phi', 'theta', 'pitch', 'volume'])\n",
    "events.raw_mapping = dict(zip(['phi', 'theta', 'pitch', 'volume'],\n",
    "                           [phis, thetas, ps, volumes_smooth_M]))\n",
    "\n",
    "events.apply_mapping_functions(mapvals, maplims)\n",
    "events.n_sources = ps.shape[0]\n",
    "soni_M_cont = Sonification(score, events, generator, system)\n",
    "soni_M_cont.render()"
   ]
  },
  {
   "cell_type": "code",
   "execution_count": null,
   "id": "8fefe668-4305-43f8-87b8-fb2a09eaaf78",
   "metadata": {
    "tags": []
   },
   "outputs": [],
   "source": [
    "display_sonification(soni_M_cont, color='C0')"
   ]
  },
  {
   "cell_type": "code",
   "execution_count": null,
   "id": "97dd6b8c",
   "metadata": {
    "tags": []
   },
   "outputs": [],
   "source": [
    "events = MultiEvents(['phi', 'theta', 'pitch', 'volume'])\n",
    "events.raw_mapping = dict(zip(['phi', 'theta', 'pitch', 'volume'],\n",
    "                           [phis, thetas, ps, volumes_negfeats_M]))\n",
    "\n",
    "events.apply_mapping_functions(mapvals, maplims)\n",
    "events.n_sources = ps.shape[0]\n",
    "soni_M_neg = Sonification(score, events, generator, system)\n",
    "soni_M_neg.render()"
   ]
  },
  {
   "cell_type": "code",
   "execution_count": null,
   "id": "43f685e7-f3d4-4cf0-8a96-4d4a19844c79",
   "metadata": {
    "tags": []
   },
   "outputs": [],
   "source": [
    "display_sonification(soni_M_neg, color='C1')\n",
    "soni_M_neg.save_stereo('../../M_class_cymbal.wav')"
   ]
  },
  {
   "cell_type": "code",
   "execution_count": null,
   "id": "c3f5a383",
   "metadata": {
    "tags": []
   },
   "outputs": [],
   "source": [
    "events = MultiEvents(['phi', 'theta', 'pitch', 'volume'])\n",
    "events.raw_mapping = dict(zip(['phi', 'theta', 'pitch', 'volume'],\n",
    "                           [phis, thetas, ps, volumes_posfeats_M]))\n",
    "\n",
    "events.apply_mapping_functions(mapvals, maplims)\n",
    "events.n_sources = ps.shape[0]\n",
    "soni_M_pos = Sonification(score, events, generator, system)\n",
    "soni_M_pos.render()"
   ]
  },
  {
   "cell_type": "code",
   "execution_count": null,
   "id": "687ae801-2efc-4584-a05e-02e4d626e9c8",
   "metadata": {
    "tags": []
   },
   "outputs": [],
   "source": [
    "display_sonification(soni_M_pos, color='C2')"
   ]
  },
  {
   "cell_type": "markdown",
   "id": "f7409e2c-3357-4385-9488-f818e5e4cfde",
   "metadata": {},
   "source": [
    "Run `soni.save_stereo('<directory/to/filename.wav>')` if you want to save the sonification to a file.\n"
   ]
  },
  {
   "cell_type": "code",
   "execution_count": null,
   "id": "564605db-81a9-4f6c-9437-29ee466b5147",
   "metadata": {},
   "outputs": [],
   "source": [
    "data = np.genfromtxt('../data/datasets/O_spectrum.txt')\n",
    "volumes_O = data[:,1]\n",
    "volumes_smooth_O = savgol_filter(volumes_O, 51, 3)\n",
    "\n",
    "volumes_negfeats_O = -np.clip((volumes_O - volumes_smooth_O), -np.inf, 0)#/volumes_smooth_O\n",
    "volumes_posfeats_O = np.clip((volumes_O - volumes_smooth_O), 0, np.inf)#/volumes_smooth_O\n",
    "\n",
    "plt.plot(freq, volumes_O, c='k', alpha=0.3)\n",
    "plt.plot(freq, volumes_smooth_O - 0.6*volumes_O.max())\n",
    "plt.plot(freq, volumes_negfeats_O - 1.2*volumes_O.max())\n",
    "plt.plot(freq, volumes_posfeats_O - 1.8*volumes_O.max())\n",
    "plt.show()"
   ]
  },
  {
   "cell_type": "code",
   "execution_count": null,
   "id": "d58ccaa1-1cdd-4a66-9fdd-57d59457425a",
   "metadata": {
    "tags": []
   },
   "outputs": [],
   "source": [
    "events = MultiEvents(['phi', 'theta', 'pitch', 'volume'])\n",
    "events.raw_mapping = dict(zip(['phi', 'theta', 'pitch', 'volume'],\n",
    "                           [phis, thetas, ps, volumes_O]))\n",
    "\n",
    "events.apply_mapping_functions(mapvals, maplims)\n",
    "events.n_sources = ps.shape[0]\n",
    "soni_O = Sonification(score, events, generator, system)\n",
    "soni_O.render()"
   ]
  },
  {
   "cell_type": "code",
   "execution_count": null,
   "id": "f2695431-c7e8-4644-9291-555c078efc0d",
   "metadata": {
    "tags": []
   },
   "outputs": [],
   "source": [
    "display_sonification(soni_O, color='0.8')"
   ]
  },
  {
   "cell_type": "code",
   "execution_count": null,
   "id": "47ac9bcf-2efd-4a84-b36e-a8dbec37bb9e",
   "metadata": {
    "tags": []
   },
   "outputs": [],
   "source": [
    "events = MultiEvents(['phi', 'theta', 'pitch', 'volume'])\n",
    "events.raw_mapping = dict(zip(['phi', 'theta', 'pitch', 'volume'],\n",
    "                           [phis, thetas, ps, volumes_smooth_O]))\n",
    "\n",
    "events.apply_mapping_functions(mapvals, maplims)\n",
    "events.n_sources = ps.shape[0]\n",
    "soni_O_cont = Sonification(score, events, generator, system)\n",
    "soni_O_cont.render()"
   ]
  },
  {
   "cell_type": "code",
   "execution_count": null,
   "id": "94162868-e02b-4cfc-bce1-725c467336ca",
   "metadata": {
    "tags": []
   },
   "outputs": [],
   "source": [
    "display_sonification(soni_O_cont, color='C0')"
   ]
  },
  {
   "cell_type": "code",
   "execution_count": null,
   "id": "93a48ad0-02a0-4a4e-aa06-ec044bcba6b1",
   "metadata": {
    "tags": []
   },
   "outputs": [],
   "source": [
    "events = MultiEvents(['phi', 'theta', 'pitch', 'volume'])\n",
    "events.raw_mapping = dict(zip(['phi', 'theta', 'pitch', 'volume'],\n",
    "                           [phis, thetas, ps, volumes_negfeats_O]))\n",
    "\n",
    "events.apply_mapping_functions(mapvals, maplims)\n",
    "events.n_sources = ps.shape[0]\n",
    "soni_O_neg = Sonification(score, events, generator, system)\n",
    "soni_O_neg.render()"
   ]
  },
  {
   "cell_type": "code",
   "execution_count": null,
   "id": "7a2bc617-0cc5-4c1a-b0e1-f11d37ffbba0",
   "metadata": {
    "tags": []
   },
   "outputs": [],
   "source": [
    "display_sonification(soni_O_neg, color='C1')"
   ]
  },
  {
   "cell_type": "code",
   "execution_count": null,
   "id": "9aff4743-abce-4913-a7ff-7ca37dc44839",
   "metadata": {
    "tags": []
   },
   "outputs": [],
   "source": [
    "events = MultiEvents(['phi', 'theta', 'pitch', 'volume'])\n",
    "events.raw_mapping = dict(zip(['phi', 'theta', 'pitch', 'volume'],\n",
    "                           [phis, thetas, ps, volumes_posfeats_O]))\n",
    "\n",
    "events.apply_mapping_functions(mapvals, maplims)\n",
    "events.n_sources = ps.shape[0]\n",
    "soni_O_pos = Sonification(score, events, generator, system)\n",
    "soni_O_pos.render()"
   ]
  },
  {
   "cell_type": "code",
   "execution_count": null,
   "id": "d3614763-07e6-4551-bead-e7e6bf4b4fff",
   "metadata": {
    "tags": []
   },
   "outputs": [],
   "source": [
    "display_sonification(soni_O_pos, color='C2')"
   ]
  },
  {
   "cell_type": "code",
   "execution_count": null,
   "id": "ffe6daac-73e7-41e2-85a7-4dc20e41d864",
   "metadata": {},
   "outputs": [],
   "source": []
  }
 ],
 "metadata": {
  "kernelspec": {
   "display_name": "Python 3 (ipykernel)",
   "language": "python",
   "name": "python3"
  },
  "language_info": {
   "codemirror_mode": {
    "name": "ipython",
    "version": 3
   },
   "file_extension": ".py",
   "mimetype": "text/x-python",
   "name": "python",
   "nbconvert_exporter": "python",
   "pygments_lexer": "ipython3",
   "version": "3.9.7"
  }
 },
 "nbformat": 4,
 "nbformat_minor": 5
}
