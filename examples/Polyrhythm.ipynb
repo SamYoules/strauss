{
 "cells": [
  {
   "cell_type": "code",
   "execution_count": null,
   "id": "4be3787b-f50a-4c3d-9975-7ca9ca3bad48",
   "metadata": {},
   "outputs": [],
   "source": [
    "%matplotlib inline\n",
    "import matplotlib.pyplot as plt\n",
    "import ffmpeg as ff\n",
    "import wavio as wav\n",
    "from strauss.sonification import Sonification\n",
    "from strauss.sources import MultiEvents\n",
    "from strauss import channels\n",
    "from strauss.score import Score\n",
    "import numpy as np\n",
    "from strauss.generator import Sampler, Synthesizer\n",
    "import IPython.display as ipd\n",
    "import os"
   ]
  },
  {
   "cell_type": "code",
   "execution_count": null,
   "id": "4454ac2a-7b13-418e-be49-1052dbff9e9e",
   "metadata": {},
   "outputs": [],
   "source": [
    "chords = [['D#3', \"F#3\", 'A#4', 'G#4']]\n",
    "length = \"1m 30s\"\n",
    "score =  Score(chords, length)"
   ]
  },
  {
   "cell_type": "code",
   "execution_count": null,
   "id": "c448d7ab-e2e7-4b65-beee-10b87976d278",
   "metadata": {},
   "outputs": [],
   "source": [
    "events = MultiEvents(['phi', 'theta', 'time', 'pitch', 'volume'])"
   ]
  },
  {
   "cell_type": "code",
   "execution_count": null,
   "id": "cc117fd8-d564-40ed-90a9-b2311c2f1cc9",
   "metadata": {},
   "outputs": [],
   "source": [
    "mapvals =  {'phi': lambda x : x,\n",
    "            'theta': lambda x : x,\n",
    "            'time': lambda x : x,\n",
    "            'pitch' : lambda x: x,\n",
    "            'volume' : lambda x: x**0}\n",
    "\n",
    "maplims =  {'phi': (0, 360),\n",
    "            'theta': (0, 180),\n",
    "            'time': ('0', '104'),\n",
    "            'pitch' : ('0', '100'),\n",
    "            'volume' : (0, 1)}"
   ]
  },
  {
   "cell_type": "code",
   "execution_count": null,
   "id": "53c7d371-c7e6-494f-89f1-57483ea2aa88",
   "metadata": {},
   "outputs": [],
   "source": [
    "# three sets of time events with a frequency ratio of ~ 1.618 (golden ratio)\n",
    "t_1 = np.linspace(0,2*np.pi,100)\n",
    "t_2 = np.linspace(0,1*np.pi,100)\n",
    "t_3 = np.linspace(0,1*np.e,100)\n",
    "t_4 = np.linspace(0,2*np.e,100)\n",
    "\n",
    "# set as high and low pitch respectively\n",
    "p_1 = np.ones(t_1.size)\n",
    "p_2 = np.ones(t_2.size)*2\n",
    "p_3 = np.ones(t_3.size)*4\n",
    "p_4 = np.ones(t_4.size)*8\n",
    "\n",
    "# hard pan the sets left and right\n",
    "phi_1 = np.ones(t_1.size)*0\n",
    "phi_2 = np.ones(t_2.size)*90\n",
    "phi_3 = np.ones(t_3.size)*270\n",
    "phi_4 = np.ones(t_4.size)*0\n",
    "\n",
    "# place on equatorial plane\n",
    "theta_1 = np.ones(t_1.size)*90\n",
    "theta_2 = np.ones(t_2.size)*90\n",
    "theta_3 = np.ones(t_3.size)*90\n",
    "theta_4 = np.ones(t_4.size)*90\n",
    "\n",
    "# combine sets\n",
    "ts = np.concatenate([t_3,t_2,t_1,t_4])\n",
    "ps = np.concatenate([p_1,p_2,p_3,p_4])\n",
    "phis = np.concatenate([phi_1,phi_2,phi_3,phi_4])\n",
    "thetas = np.concatenate([theta_1,theta_2,theta_3,theta_4])"
   ]
  },
  {
   "cell_type": "code",
   "execution_count": null,
   "id": "336c07da-77e8-46f4-8805-6f26b622c3df",
   "metadata": {},
   "outputs": [],
   "source": [
    "# volume conversion function just gives 1, so array values don't matter\n",
    "events.raw_mapping = dict(zip(['phi', 'theta', 'time', 'pitch', 'volume'],\n",
    "                           [phis, thetas, ts, ps, ps]))\n",
    "events.nevents = phis.size\n",
    "events.apply_mapping_functions(mapvals, maplims)"
   ]
  },
  {
   "cell_type": "code",
   "execution_count": null,
   "id": "17ced4ee-2b04-4cf4-8b37-6d6304ff4acf",
   "metadata": {},
   "outputs": [],
   "source": [
    "generator = Sampler(\"../data/samples/mallets\")\n",
    "generator = Synthesizer()\n",
    "\n",
    "system = \"stereo\"\n",
    "events.n_sources = ts.shape[0]\n",
    "soni = Sonification(score, events, generator, system)\n",
    "soni.render()"
   ]
  },
  {
   "cell_type": "code",
   "execution_count": null,
   "id": "24a64999-1e2e-41ef-ab5a-2567331b42f9",
   "metadata": {},
   "outputs": [],
   "source": [
    "outfmt = np.column_stack([soni.out_channels['0'].values, soni.out_channels['1'].values]).T\n",
    "ipd.Audio(outfmt[:,:],rate=soni.out_channels['0'].samprate, autoplay=False)"
   ]
  },
  {
   "cell_type": "code",
   "execution_count": null,
   "id": "0e4aa931-2a1c-4393-bd59-b6fb63f5e8fe",
   "metadata": {},
   "outputs": [],
   "source": [
    "1.04/1.618**2"
   ]
  },
  {
   "cell_type": "code",
   "execution_count": null,
   "id": "48ee4b37-2d8a-40c7-b89a-95728f82be75",
   "metadata": {},
   "outputs": [],
   "source": [
    "soni.channels.mics[0].antenna(np.linspace(0,2,21)*np.pi, np.ones(21)*np.pi)"
   ]
  },
  {
   "cell_type": "code",
   "execution_count": null,
   "id": "1d6e3e54-7f20-4478-b6a1-a476a5d873b9",
   "metadata": {},
   "outputs": [],
   "source": [
    "soni.channels.mics[0].antenna(,0)"
   ]
  },
  {
   "cell_type": "code",
   "execution_count": null,
   "id": "e30d19a6-e93b-41bc-887d-5b603cbf9312",
   "metadata": {},
   "outputs": [],
   "source": [
    "sampler.sampdict"
   ]
  },
  {
   "cell_type": "code",
   "execution_count": null,
   "id": "c8e049f8-2684-4200-bd2f-555aa4fb9ad2",
   "metadata": {},
   "outputs": [],
   "source": []
  }
 ],
 "metadata": {
  "kernelspec": {
   "display_name": "Python 3 (ipykernel)",
   "language": "python",
   "name": "python3"
  },
  "language_info": {
   "codemirror_mode": {
    "name": "ipython",
    "version": 3
   },
   "file_extension": ".py",
   "mimetype": "text/x-python",
   "name": "python",
   "nbconvert_exporter": "python",
   "pygments_lexer": "ipython3",
   "version": "3.9.6"
  }
 },
 "nbformat": 4,
 "nbformat_minor": 5
}
